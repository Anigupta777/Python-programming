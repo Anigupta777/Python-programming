{
 "cells": [
  {
   "cell_type": "code",
   "execution_count": 1,
   "id": "c904f9cb",
   "metadata": {},
   "outputs": [
    {
     "data": {
      "text/plain": [
       "2.0"
      ]
     },
     "execution_count": 1,
     "metadata": {},
     "output_type": "execute_result"
    }
   ],
   "source": [
    "4/2        #division"
   ]
  },
  {
   "cell_type": "code",
   "execution_count": 2,
   "id": "25fbec0c",
   "metadata": {},
   "outputs": [
    {
     "data": {
      "text/plain": [
       "2"
      ]
     },
     "execution_count": 2,
     "metadata": {},
     "output_type": "execute_result"
    }
   ],
   "source": [
    "1+1 #Addition"
   ]
  },
  {
   "cell_type": "code",
   "execution_count": 3,
   "id": "e4e75405",
   "metadata": {},
   "outputs": [
    {
     "data": {
      "text/plain": [
       "5"
      ]
     },
     "execution_count": 3,
     "metadata": {},
     "output_type": "execute_result"
    }
   ],
   "source": [
    "3--2"
   ]
  },
  {
   "cell_type": "code",
   "execution_count": 4,
   "id": "c2b63739",
   "metadata": {},
   "outputs": [
    {
     "data": {
      "text/plain": [
       "6"
      ]
     },
     "execution_count": 4,
     "metadata": {},
     "output_type": "execute_result"
    }
   ],
   "source": [
    "9-3 #Subtraction"
   ]
  },
  {
   "cell_type": "code",
   "execution_count": 5,
   "id": "bb7e663e",
   "metadata": {},
   "outputs": [
    {
     "data": {
      "text/plain": [
       "6"
      ]
     },
     "execution_count": 5,
     "metadata": {},
     "output_type": "execute_result"
    }
   ],
   "source": [
    "9---3"
   ]
  },
  {
   "cell_type": "code",
   "execution_count": null,
   "id": "34324bcd",
   "metadata": {},
   "outputs": [],
   "source": []
  },
  {
   "cell_type": "code",
   "execution_count": 2,
   "id": "e0429ea4",
   "metadata": {},
   "outputs": [
    {
     "data": {
      "text/plain": [
       "2"
      ]
     },
     "execution_count": 2,
     "metadata": {},
     "output_type": "execute_result"
    }
   ],
   "source": [
    "4//2       #floor division\n"
   ]
  },
  {
   "cell_type": "code",
   "execution_count": 3,
   "id": "e3d51827",
   "metadata": {},
   "outputs": [
    {
     "data": {
      "text/plain": [
       "2.3333333333333335"
      ]
     },
     "execution_count": 3,
     "metadata": {},
     "output_type": "execute_result"
    }
   ],
   "source": [
    "7/3        #division"
   ]
  },
  {
   "cell_type": "code",
   "execution_count": 5,
   "id": "d5169b86",
   "metadata": {},
   "outputs": [
    {
     "data": {
      "text/plain": [
       "1"
      ]
     },
     "execution_count": 5,
     "metadata": {},
     "output_type": "execute_result"
    }
   ],
   "source": [
    "7%3        #remainder"
   ]
  },
  {
   "cell_type": "code",
   "execution_count": 9,
   "id": "84e4f5a1",
   "metadata": {},
   "outputs": [
    {
     "data": {
      "text/plain": [
       "0"
      ]
     },
     "execution_count": 9,
     "metadata": {},
     "output_type": "execute_result"
    }
   ],
   "source": [
    "8&2        #bitwise and"
   ]
  },
  {
   "cell_type": "code",
   "execution_count": 11,
   "id": "ba240a49",
   "metadata": {},
   "outputs": [
    {
     "data": {
      "text/plain": [
       "10"
      ]
     },
     "execution_count": 11,
     "metadata": {},
     "output_type": "execute_result"
    }
   ],
   "source": [
    "8|2        #bitwise or"
   ]
  },
  {
   "cell_type": "code",
   "execution_count": 13,
   "id": "eb87ac01",
   "metadata": {},
   "outputs": [
    {
     "data": {
      "text/plain": [
       "0"
      ]
     },
     "execution_count": 13,
     "metadata": {},
     "output_type": "execute_result"
    }
   ],
   "source": [
    "1^1        #bitwise xor"
   ]
  },
  {
   "cell_type": "code",
   "execution_count": 17,
   "id": "1e5f7cb0",
   "metadata": {},
   "outputs": [
    {
     "data": {
      "text/plain": [
       "8"
      ]
     },
     "execution_count": 17,
     "metadata": {},
     "output_type": "execute_result"
    }
   ],
   "source": [
    "2**3**1    #power operator"
   ]
  },
  {
   "cell_type": "code",
   "execution_count": 19,
   "id": "d6d0d18e",
   "metadata": {},
   "outputs": [
    {
     "data": {
      "text/plain": [
       "4.0"
      ]
     },
     "execution_count": 19,
     "metadata": {},
     "output_type": "execute_result"
    }
   ],
   "source": [
    "2**(4**0.5) # ** is aright associative"
   ]
  },
  {
   "cell_type": "code",
   "execution_count": 21,
   "id": "0d7fedce",
   "metadata": {},
   "outputs": [
    {
     "data": {
      "text/plain": [
       "5"
      ]
     },
     "execution_count": 21,
     "metadata": {},
     "output_type": "execute_result"
    }
   ],
   "source": [
    "2**4//3"
   ]
  },
  {
   "cell_type": "code",
   "execution_count": 24,
   "id": "eeb925d8",
   "metadata": {},
   "outputs": [
    {
     "data": {
      "text/plain": [
       "4"
      ]
     },
     "execution_count": 24,
     "metadata": {},
     "output_type": "execute_result"
    }
   ],
   "source": [
    "2**4&3|2**3//2"
   ]
  },
  {
   "cell_type": "markdown",
   "id": "4a02264a",
   "metadata": {},
   "source": [
    "# typeconversion"
   ]
  },
  {
   "cell_type": "code",
   "execution_count": 25,
   "id": "201ae991",
   "metadata": {},
   "outputs": [
    {
     "data": {
      "text/plain": [
       "2"
      ]
     },
     "execution_count": 25,
     "metadata": {},
     "output_type": "execute_result"
    }
   ],
   "source": [
    "int(2.5)"
   ]
  },
  {
   "cell_type": "code",
   "execution_count": 26,
   "id": "aadda21d",
   "metadata": {},
   "outputs": [
    {
     "data": {
      "text/plain": [
       "2.0"
      ]
     },
     "execution_count": 26,
     "metadata": {},
     "output_type": "execute_result"
    }
   ],
   "source": [
    "float(2)"
   ]
  },
  {
   "cell_type": "code",
   "execution_count": 27,
   "id": "7e9cd520",
   "metadata": {},
   "outputs": [
    {
     "data": {
      "text/plain": [
       "'2'"
      ]
     },
     "execution_count": 27,
     "metadata": {},
     "output_type": "execute_result"
    }
   ],
   "source": [
    "str(2)"
   ]
  },
  {
   "cell_type": "code",
   "execution_count": 28,
   "id": "3876576a",
   "metadata": {},
   "outputs": [
    {
     "data": {
      "text/plain": [
       "'2.0'"
      ]
     },
     "execution_count": 28,
     "metadata": {},
     "output_type": "execute_result"
    }
   ],
   "source": [
    "str(2.0)"
   ]
  },
  {
   "cell_type": "code",
   "execution_count": 29,
   "id": "70117db8",
   "metadata": {},
   "outputs": [
    {
     "data": {
      "text/plain": [
       "'3'"
      ]
     },
     "execution_count": 29,
     "metadata": {},
     "output_type": "execute_result"
    }
   ],
   "source": [
    "str(int(3.142))"
   ]
  },
  {
   "cell_type": "code",
   "execution_count": 8,
   "id": "45860c89",
   "metadata": {},
   "outputs": [
    {
     "data": {
      "text/plain": [
       "3.0"
      ]
     },
     "execution_count": 8,
     "metadata": {},
     "output_type": "execute_result"
    }
   ],
   "source": [
    "float(str(int(3.142)))"
   ]
  },
  {
   "cell_type": "code",
   "execution_count": 3,
   "id": "485eceda",
   "metadata": {},
   "outputs": [
    {
     "data": {
      "text/plain": [
       "('A',\n",
       " 'B',\n",
       " 'C',\n",
       " 'D',\n",
       " 'E',\n",
       " 'F',\n",
       " 'G',\n",
       " 'H',\n",
       " 'I',\n",
       " 'J',\n",
       " 'K',\n",
       " 'L',\n",
       " 'M',\n",
       " 'N',\n",
       " 'O',\n",
       " 'P',\n",
       " 'Q',\n",
       " 'R',\n",
       " 'S',\n",
       " 'T',\n",
       " 'U',\n",
       " 'V',\n",
       " 'W',\n",
       " 'X',\n",
       " 'Y',\n",
       " 'Z',\n",
       " '[',\n",
       " '\\\\',\n",
       " ']',\n",
       " '^',\n",
       " '_',\n",
       " '`',\n",
       " 'a',\n",
       " 'b',\n",
       " 'c',\n",
       " 'd')"
      ]
     },
     "execution_count": 3,
     "metadata": {},
     "output_type": "execute_result"
    }
   ],
   "source": [
    "chr(65),chr(66),chr(67),chr(68),chr(69),chr(70),chr(71),chr(72),chr(73),chr(74),chr(75),chr(76),chr(77),chr(78),chr(79),chr(80),chr(81),chr(82),chr(83),chr(84),chr(85),chr(86),chr(87),chr(88),chr(89),chr(90),chr(91),chr(92),chr(93),chr(94),chr(95),chr(96),chr(97),chr(98),chr(99),chr(100)"
   ]
  },
  {
   "cell_type": "code",
   "execution_count": 11,
   "id": "42d4c906",
   "metadata": {},
   "outputs": [
    {
     "data": {
      "text/plain": [
       "'a'"
      ]
     },
     "execution_count": 11,
     "metadata": {},
     "output_type": "execute_result"
    }
   ],
   "source": [
    "chr(97)"
   ]
  },
  {
   "cell_type": "code",
   "execution_count": 12,
   "id": "e72b0dd1",
   "metadata": {},
   "outputs": [
    {
     "data": {
      "text/plain": [
       "65"
      ]
     },
     "execution_count": 12,
     "metadata": {},
     "output_type": "execute_result"
    }
   ],
   "source": [
    "ord('A')"
   ]
  },
  {
   "cell_type": "code",
   "execution_count": 31,
   "id": "4d9e492c",
   "metadata": {},
   "outputs": [
    {
     "data": {
      "text/plain": [
       "97"
      ]
     },
     "execution_count": 31,
     "metadata": {},
     "output_type": "execute_result"
    }
   ],
   "source": [
    "ord('a')"
   ]
  },
  {
   "cell_type": "code",
   "execution_count": 32,
   "id": "63c36865",
   "metadata": {},
   "outputs": [
    {
     "data": {
      "text/plain": [
       "65"
      ]
     },
     "execution_count": 32,
     "metadata": {},
     "output_type": "execute_result"
    }
   ],
   "source": [
    "ord('A')"
   ]
  },
  {
   "cell_type": "markdown",
   "id": "5762da11",
   "metadata": {},
   "source": [
    "# Comments"
   ]
  },
  {
   "cell_type": "code",
   "execution_count": 33,
   "id": "9ff25b2d",
   "metadata": {},
   "outputs": [
    {
     "name": "stdout",
     "output_type": "stream",
     "text": [
      "hello world !\n"
     ]
    }
   ],
   "source": [
    "#code to print hello!world\n",
    "print('hello world !')"
   ]
  },
  {
   "cell_type": "code",
   "execution_count": 34,
   "id": "a1e4351e",
   "metadata": {},
   "outputs": [
    {
     "name": "stdout",
     "output_type": "stream",
     "text": [
      "\"hello world !\"\n"
     ]
    }
   ],
   "source": [
    "print('\"hello world !\"')"
   ]
  },
  {
   "cell_type": "code",
   "execution_count": 35,
   "id": "088a62c1",
   "metadata": {},
   "outputs": [
    {
     "name": "stdout",
     "output_type": "stream",
     "text": [
      "hello 'world'!\n"
     ]
    }
   ],
   "source": [
    "print(\"hello 'world'!\")"
   ]
  },
  {
   "cell_type": "code",
   "execution_count": 37,
   "id": "1f8b7bb8",
   "metadata": {},
   "outputs": [
    {
     "name": "stdout",
     "output_type": "stream",
     "text": [
      "the value of x is 7\n",
      "the value of x is 7\n",
      "the value of x is 7\n",
      "the value of x is 7\n"
     ]
    }
   ],
   "source": [
    "x=7\n",
    "print('the value of x is',x)\n",
    "print(f'the value of x is {x}')\n",
    "print('the value of x is {}'.format(x))\n",
    "print('the value of x is '+str(x))"
   ]
  },
  {
   "cell_type": "code",
   "execution_count": 38,
   "id": "2a29da79",
   "metadata": {},
   "outputs": [
    {
     "name": "stdout",
     "output_type": "stream",
     "text": [
      "i like apple,banana and mango\n",
      "i like apple,banana and mango\n"
     ]
    }
   ],
   "source": [
    "fruit1='apple'\n",
    "fruit2='banana'\n",
    "fruit3='mango'\n",
    "print('i like {},{} and {}'.format(fruit1,fruit2,fruit3))\n",
    "print(f'i like {fruit1},{fruit2} and {fruit3}')\n"
   ]
  },
  {
   "cell_type": "code",
   "execution_count": 39,
   "id": "c17df529",
   "metadata": {},
   "outputs": [
    {
     "name": "stdout",
     "output_type": "stream",
     "text": [
      "i like apple , banana and mango\n"
     ]
    }
   ],
   "source": [
    "print('i like',fruit1, ',',fruit2, 'and',fruit3)"
   ]
  },
  {
   "cell_type": "markdown",
   "id": "cedf507b",
   "metadata": {},
   "source": [
    "# if else; if elif"
   ]
  },
  {
   "cell_type": "code",
   "execution_count": 41,
   "id": "f6efd6fa",
   "metadata": {},
   "outputs": [
    {
     "name": "stdout",
     "output_type": "stream",
     "text": [
      "odd number\n"
     ]
    }
   ],
   "source": [
    "#even or odd \n",
    "number=7\n",
    "if(number%2==0):\n",
    "    print('even number')\n",
    "else:\n",
    "    print('odd number')"
   ]
  },
  {
   "cell_type": "code",
   "execution_count": 43,
   "id": "f23b3665",
   "metadata": {},
   "outputs": [
    {
     "name": "stdout",
     "output_type": "stream",
     "text": [
      "7 is odd number\n"
     ]
    }
   ],
   "source": [
    "#even or odd \n",
    "number=7\n",
    "if(number%2==0):\n",
    "    print(f'{number} is even number')\n",
    "else:\n",
    "    print(f'{number} is odd number')"
   ]
  },
  {
   "cell_type": "code",
   "execution_count": 8,
   "id": "dec54401",
   "metadata": {},
   "outputs": [
    {
     "name": "stdout",
     "output_type": "stream",
     "text": [
      "get ready to marry\n"
     ]
    }
   ],
   "source": [
    "Name='Mokshi'\n",
    "if(Name=='red'):\n",
    "    print('stop')\n",
    "else:\n",
    "    print('get ready to marry')"
   ]
  },
  {
   "cell_type": "markdown",
   "id": "4a67d9db",
   "metadata": {},
   "source": [
    "# input()function"
   ]
  },
  {
   "cell_type": "code",
   "execution_count": 46,
   "id": "4f0ef1d3",
   "metadata": {},
   "outputs": [
    {
     "name": "stdout",
     "output_type": "stream",
     "text": [
      "<class 'int'>\n",
      "<class 'float'>\n"
     ]
    }
   ],
   "source": [
    "print(type(1))\n",
    "print(type(1.0))\n",
    "\n",
    "\n",
    "\n",
    "\n",
    "\n",
    "\n",
    "\n",
    "\n",
    "\n"
   ]
  },
  {
   "cell_type": "code",
   "execution_count": 47,
   "id": "83485660",
   "metadata": {},
   "outputs": [
    {
     "name": "stdout",
     "output_type": "stream",
     "text": [
      "enter the number7\n",
      "<class 'str'>\n"
     ]
    }
   ],
   "source": [
    "#loops\n",
    "x=input('enter the number')\n",
    "print(type(x))"
   ]
  },
  {
   "cell_type": "code",
   "execution_count": 49,
   "id": "6b717cd3",
   "metadata": {},
   "outputs": [
    {
     "name": "stdout",
     "output_type": "stream",
     "text": [
      "0\n",
      "1\n",
      "2\n",
      "3\n"
     ]
    }
   ],
   "source": [
    "#print numbers from 0 to 4\n",
    "for i in range(4):\n",
    "    print(i)"
   ]
  },
  {
   "cell_type": "code",
   "execution_count": 50,
   "id": "bd2ec708",
   "metadata": {},
   "outputs": [
    {
     "name": "stdout",
     "output_type": "stream",
     "text": [
      "0\n",
      "1\n",
      "2\n",
      "3\n"
     ]
    }
   ],
   "source": [
    "for i in range(0,4):\n",
    "    print(i)"
   ]
  },
  {
   "cell_type": "code",
   "execution_count": 51,
   "id": "0c2228e1",
   "metadata": {},
   "outputs": [
    {
     "name": "stdout",
     "output_type": "stream",
     "text": [
      "0\n",
      "1\n",
      "2\n",
      "3\n"
     ]
    }
   ],
   "source": [
    "for i in range(0,4,1):\n",
    "    print(i)"
   ]
  },
  {
   "cell_type": "markdown",
   "id": "077b22e7",
   "metadata": {},
   "source": [
    "# functions"
   ]
  },
  {
   "cell_type": "code",
   "execution_count": 53,
   "id": "10bcee71",
   "metadata": {},
   "outputs": [
    {
     "name": "stdout",
     "output_type": "stream",
     "text": [
      "hello world\n"
     ]
    }
   ],
   "source": [
    "def fun():\n",
    "    print('hello world')\n",
    "fun()"
   ]
  },
  {
   "cell_type": "code",
   "execution_count": 54,
   "id": "97ef1f18",
   "metadata": {},
   "outputs": [
    {
     "name": "stdout",
     "output_type": "stream",
     "text": [
      "hello world !\n",
      "hello world !\n",
      "hello world !\n",
      "hello world !\n",
      "hello world !\n",
      "hello world !\n",
      "hello world !\n"
     ]
    }
   ],
   "source": [
    "def fun(count):\n",
    "    for i in range(count):\n",
    "        print('hello world !')\n",
    "fun(7)"
   ]
  },
  {
   "cell_type": "code",
   "execution_count": 56,
   "id": "940fd83f",
   "metadata": {},
   "outputs": [
    {
     "name": "stdout",
     "output_type": "stream",
     "text": [
      "hello world\n",
      "hello world\n",
      "hello world\n",
      "hello world\n",
      "hello world\n"
     ]
    }
   ],
   "source": [
    "def fun(sentence,count):\n",
    "    for i in range(count):\n",
    "        print(sentence)\n",
    "fun('hello world',5)"
   ]
  },
  {
   "cell_type": "code",
   "execution_count": 59,
   "id": "11ae18ad",
   "metadata": {},
   "outputs": [
    {
     "name": "stdout",
     "output_type": "stream",
     "text": [
      "hello world\n",
      "hello world\n"
     ]
    }
   ],
   "source": [
    "def fun(sentence='hello world',count=2):\n",
    "    for i in range(count):\n",
    "        print(sentence)\n",
    "fun()"
   ]
  },
  {
   "cell_type": "code",
   "execution_count": 61,
   "id": "b751b8b4",
   "metadata": {},
   "outputs": [
    {
     "name": "stdout",
     "output_type": "stream",
     "text": [
      "6.0\n"
     ]
    }
   ],
   "source": [
    "def sum_of_natural_numbers(n):\n",
    "    result = n*(n+1)/2\n",
    "    return result\n",
    "result= sum_of_natural_numbers(3)\n",
    "print(result)"
   ]
  },
  {
   "cell_type": "code",
   "execution_count": 65,
   "id": "595e42c6",
   "metadata": {},
   "outputs": [
    {
     "name": "stdout",
     "output_type": "stream",
     "text": [
      "enter the number:3\n",
      "sum of first 3 natural numbers=6.0\n"
     ]
    }
   ],
   "source": [
    "def sum_of_natural_numbers(n):\n",
    "    result = n*(n+1)/2\n",
    "    return result\n",
    "number=int(input('enter the number:'))\n",
    "result = sum_of_natural_numbers(3)\n",
    "print(f'sum of first {number} natural numbers={result}')"
   ]
  },
  {
   "cell_type": "code",
   "execution_count": 66,
   "id": "91dd50e4",
   "metadata": {},
   "outputs": [
    {
     "name": "stdout",
     "output_type": "stream",
     "text": [
      "enter the number:3\n",
      "sum of square of first 3 natural numbers = 14.0\n"
     ]
    }
   ],
   "source": [
    "def sum_of_squares_of_natural_numbers(n):\n",
    "    result = n*(n+1)*(2*n+1)/6\n",
    "    return result\n",
    "number=int(input('enter the number:'))\n",
    "result = sum_of_squares_of_natural_numbers(number)\n",
    "print(f'sum of square of first {number} natural numbers = {result}')"
   ]
  },
  {
   "cell_type": "code",
   "execution_count": 67,
   "id": "6e86ccb3",
   "metadata": {},
   "outputs": [
    {
     "name": "stdout",
     "output_type": "stream",
     "text": [
      "enter the number:2\n",
      "sum of cubes of first 2 natural numbers = 9.0\n"
     ]
    }
   ],
   "source": [
    "def sum_of_cubes_of_natural_numbers(n):\n",
    "    result =(n*(n+1)/2)**2\n",
    "    return result\n",
    "number=int(input('enter the number:'))\n",
    "result = sum_of_cubes_of_natural_numbers(number)\n",
    "print(f'sum of cubes of first {number} natural numbers = {result}')"
   ]
  },
  {
   "cell_type": "markdown",
   "id": "0221daac",
   "metadata": {},
   "source": [
    "# Patterns"
   ]
  },
  {
   "cell_type": "code",
   "execution_count": 68,
   "id": "f029dbbb",
   "metadata": {},
   "outputs": [
    {
     "name": "stdout",
     "output_type": "stream",
     "text": [
      "*\n",
      "**\n",
      "***\n",
      "****\n",
      "*****\n"
     ]
    }
   ],
   "source": [
    "for i in range(5):\n",
    "    for j in range(i+1):\n",
    "        print('*',end='')\n",
    "    print()"
   ]
  },
  {
   "cell_type": "code",
   "execution_count": 71,
   "id": "a558eeae",
   "metadata": {},
   "outputs": [
    {
     "name": "stdout",
     "output_type": "stream",
     "text": [
      "*\n",
      "**\n",
      "***\n",
      "****\n",
      "*****\n"
     ]
    }
   ],
   "source": [
    "row=5\n",
    "print_count=1\n",
    "for i in range(row):\n",
    "    for j in range(print_count):\n",
    "        print('*',end='')\n",
    "    print_count=print_count+1\n",
    "    print()"
   ]
  },
  {
   "cell_type": "code",
   "execution_count": 77,
   "id": "297dcdd3",
   "metadata": {},
   "outputs": [
    {
     "name": "stdout",
     "output_type": "stream",
     "text": [
      "0\n",
      "11\n",
      "222\n",
      "3333\n",
      "44444\n"
     ]
    }
   ],
   "source": [
    "rows=5\n",
    "print_count=1\n",
    "for i in range(rows):\n",
    "    for j in range(print_count):\n",
    "        print(i,end='')\n",
    "    print_count=print_count+1\n",
    "    print()"
   ]
  },
  {
   "cell_type": "code",
   "execution_count": 13,
   "id": "eeb8cb99",
   "metadata": {},
   "outputs": [
    {
     "name": "stdout",
     "output_type": "stream",
     "text": [
      "0\n",
      "01\n",
      "012\n",
      "0123\n",
      "01234\n"
     ]
    }
   ],
   "source": [
    "rows=5\n",
    "print_count=1\n",
    "for i in range(rows):\n",
    "    for j in range(print_count):\n",
    "        print(j,end='')\n",
    "    print_count=print_count+1\n",
    "    print()"
   ]
  },
  {
   "cell_type": "code",
   "execution_count": 16,
   "id": "ee3fdeb5",
   "metadata": {},
   "outputs": [
    {
     "name": "stdout",
     "output_type": "stream",
     "text": [
      "7\n",
      "99\n",
      "777\n",
      "9999\n",
      "77777\n",
      "999999\n",
      "7777777\n",
      "99999999\n",
      "777777777\n",
      "9999999999\n"
     ]
    }
   ],
   "source": [
    "rows = 10\n",
    "print_count = 1\n",
    "for i in range(rows):\n",
    "    for j in range(print_count):\n",
    "        if(i%2 == 0):\n",
    "            print('7', end = '')\n",
    "        else:\n",
    "            print('9', end = '')\n",
    "    print_count = print_count + 1\n",
    "    print()"
   ]
  },
  {
   "cell_type": "code",
   "execution_count": 17,
   "id": "52ed9107",
   "metadata": {},
   "outputs": [
    {
     "name": "stdout",
     "output_type": "stream",
     "text": [
      "1\n",
      "77\n",
      "999\n",
      "1111\n",
      "77777\n",
      "999999\n"
     ]
    }
   ],
   "source": [
    "rows = 6\n",
    "print_count = 1\n",
    "for i in range(rows):\n",
    "    for j in range(print_count):\n",
    "        if(i%3 == 0):\n",
    "            print('1', end = '')\n",
    "        elif(i%3 == 1):\n",
    "            print('7', end = '')\n",
    "        else:\n",
    "            print('9', end = '')\n",
    "    print_count = print_count + 1\n",
    "    print()"
   ]
  },
  {
   "cell_type": "code",
   "execution_count": 80,
   "id": "0324d2d2",
   "metadata": {},
   "outputs": [
    {
     "name": "stdout",
     "output_type": "stream",
     "text": [
      "*****\n",
      "****\n",
      "***\n",
      "**\n",
      "*\n"
     ]
    }
   ],
   "source": [
    "row=5\n",
    "print_count=5\n",
    "for i in range(row):\n",
    "    for j in range(print_count):\n",
    "        print('*',end='')\n",
    "    print_count=print_count-1\n",
    "    print()"
   ]
  },
  {
   "cell_type": "code",
   "execution_count": 81,
   "id": "b8ab6527",
   "metadata": {},
   "outputs": [
    {
     "name": "stdout",
     "output_type": "stream",
     "text": [
      "00000\n",
      "1111\n",
      "222\n",
      "33\n",
      "4\n"
     ]
    }
   ],
   "source": [
    "rows=5\n",
    "print_count=5\n",
    "for i in range(rows):\n",
    "    for j in range(print_count):\n",
    "        print(i,end='')\n",
    "    print_count=print_count-1\n",
    "    print()"
   ]
  },
  {
   "cell_type": "code",
   "execution_count": 82,
   "id": "feebd044",
   "metadata": {},
   "outputs": [
    {
     "name": "stdout",
     "output_type": "stream",
     "text": [
      "01234\n",
      "0123\n",
      "012\n",
      "01\n",
      "0\n"
     ]
    }
   ],
   "source": [
    "rows=5\n",
    "print_count=5\n",
    "for i in range(rows):\n",
    "    for j in range(print_count):\n",
    "        print(j,end='')\n",
    "    print_count=print_count-1\n",
    "    print()"
   ]
  },
  {
   "cell_type": "code",
   "execution_count": 83,
   "id": "1f6575b2",
   "metadata": {},
   "outputs": [
    {
     "name": "stdout",
     "output_type": "stream",
     "text": [
      "0\n",
      "11\n",
      "222\n",
      "3333\n",
      "44444\n"
     ]
    }
   ],
   "source": [
    "rows=5\n",
    "print_count=1\n",
    "for i in range(rows):\n",
    "    for j in range(print_count):\n",
    "        print(i,end='')\n",
    "    print_count=print_count+1\n",
    "    print()"
   ]
  },
  {
   "cell_type": "code",
   "execution_count": 84,
   "id": "b7313e8f",
   "metadata": {},
   "outputs": [
    {
     "name": "stdout",
     "output_type": "stream",
     "text": [
      "1 \n",
      "7 7 \n",
      "9 9 9 \n",
      "1 1 1 1 \n",
      "7 7 7 7 7 \n",
      "9 9 9 9 9 9 \n"
     ]
    }
   ],
   "source": [
    "rows=6\n",
    "print_count=1\n",
    "for i in range(rows):\n",
    "    for j in range(print_count):\n",
    "        if(i%3==0):\n",
    "            print('1',end=' ')\n",
    "        elif(i%3==1):\n",
    "            print('7',end=' ')\n",
    "        else:\n",
    "            print('9',end=' ')\n",
    "    print_count=print_count+1\n",
    "    print()"
   ]
  },
  {
   "cell_type": "code",
   "execution_count": 85,
   "id": "f176db5e",
   "metadata": {},
   "outputs": [
    {
     "name": "stdout",
     "output_type": "stream",
     "text": [
      "A\n",
      "BB\n",
      "CCC\n",
      "DDDD\n",
      "EEEEE\n"
     ]
    }
   ],
   "source": [
    "rows=5\n",
    "print_count=1\n",
    "count=65\n",
    "for i in range(rows):\n",
    "    for j in range(print_count):\n",
    "        print(chr(count),end='')\n",
    "    count = count+1\n",
    "    print_count=print_count+1\n",
    "    print()"
   ]
  },
  {
   "cell_type": "code",
   "execution_count": 86,
   "id": "451cbf16",
   "metadata": {},
   "outputs": [
    {
     "name": "stdout",
     "output_type": "stream",
     "text": [
      "a\n",
      "bb\n",
      "ccc\n",
      "dddd\n",
      "eeeee\n",
      "ffffff\n",
      "ggggggg\n"
     ]
    }
   ],
   "source": [
    "rows=7\n",
    "print_count=1\n",
    "count=97\n",
    "for i in range(rows):\n",
    "    for j in range(print_count):\n",
    "        print(chr(count),end='')\n",
    "    count = count+1\n",
    "    print_count=print_count+1\n",
    "    print()"
   ]
  },
  {
   "cell_type": "code",
   "execution_count": 88,
   "id": "521583da",
   "metadata": {},
   "outputs": [
    {
     "name": "stdout",
     "output_type": "stream",
     "text": [
      "A\n",
      "BC\n",
      "DEF\n",
      "GHIJ\n",
      "KLMNO\n",
      "PQRSTU\n",
      "VWXYZ[\\\n"
     ]
    }
   ],
   "source": [
    "rows=7\n",
    "print_count=1\n",
    "count=65\n",
    "for i in range(rows):\n",
    "    for j in range(print_count):\n",
    "        print(chr(count),end='')\n",
    "        count = count+1\n",
    "    print_count=print_count+1\n",
    "    print()"
   ]
  },
  {
   "cell_type": "code",
   "execution_count": 90,
   "id": "5f46cd49",
   "metadata": {},
   "outputs": [
    {
     "name": "stdout",
     "output_type": "stream",
     "text": [
      "A\n",
      "AB\n",
      "ABC\n",
      "ABCD\n",
      "ABCDE\n",
      "ABCDEF\n",
      "ABCDEFG\n"
     ]
    }
   ],
   "source": [
    "rows=7\n",
    "print_count=1\n",
    "for i in range(rows):\n",
    "    count=65\n",
    "    for j in range(print_count):\n",
    "        print(chr(count),end='')\n",
    "        count = count+1\n",
    "    print_count=print_count+1\n",
    "    print()"
   ]
  },
  {
   "cell_type": "code",
   "execution_count": 91,
   "id": "4aff16cb",
   "metadata": {},
   "outputs": [
    {
     "name": "stdout",
     "output_type": "stream",
     "text": [
      "*****\n",
      "****\n",
      "***\n",
      "**\n",
      "*\n",
      "\n",
      "\n"
     ]
    }
   ],
   "source": [
    "row=7\n",
    "print_count=5\n",
    "for i in range(row):\n",
    "    for j in range(print_count):\n",
    "        print('*',end='')\n",
    "        count = count+1\n",
    "    print_count=print_count-1\n",
    "    print()"
   ]
  },
  {
   "cell_type": "code",
   "execution_count": 92,
   "id": "7485e27f",
   "metadata": {},
   "outputs": [
    {
     "name": "stdout",
     "output_type": "stream",
     "text": [
      "00000\n",
      "1111\n",
      "222\n",
      "33\n",
      "4\n"
     ]
    }
   ],
   "source": [
    "row=5\n",
    "print_count=5\n",
    "for i in range(row):\n",
    "    for j in range(print_count):\n",
    "        print(i,end='')\n",
    "        count = count+1\n",
    "    print_count=print_count-1\n",
    "    print()"
   ]
  },
  {
   "cell_type": "code",
   "execution_count": 94,
   "id": "5199952e",
   "metadata": {},
   "outputs": [
    {
     "name": "stdout",
     "output_type": "stream",
     "text": [
      "01234\n",
      "0123\n",
      "012\n",
      "01\n",
      "0\n",
      "\n",
      "\n"
     ]
    }
   ],
   "source": [
    "row=7\n",
    "print_count=5\n",
    "for i in range(row):\n",
    "    for j in range(print_count):\n",
    "        print(j,end='')\n",
    "        count = count+1\n",
    "    print_count-=1\n",
    "    print()"
   ]
  },
  {
   "cell_type": "code",
   "execution_count": 96,
   "id": "08e5cf03",
   "metadata": {},
   "outputs": [
    {
     "name": "stdout",
     "output_type": "stream",
     "text": [
      "        * \n",
      "      * * * \n",
      "    * * * * * \n",
      "  * * * * * * * \n",
      "* * * * * * * * * \n"
     ]
    }
   ],
   "source": [
    "rows =5\n",
    "spaces = rows-1\n",
    "print_count = 1\n",
    "for i in range(rows):\n",
    "    for j in range(spaces):\n",
    "        print(' ',end=' ')\n",
    "        #print(end='  ')\n",
    "    spaces  -=1\n",
    "    for j in range(print_count):\n",
    "        print('*',end=' ')\n",
    "    print_count =print_count+2\n",
    "    print()"
   ]
  },
  {
   "cell_type": "code",
   "execution_count": 97,
   "id": "0f5deea9",
   "metadata": {},
   "outputs": [
    {
     "name": "stdout",
     "output_type": "stream",
     "text": [
      "                  * \n",
      "                * * * \n",
      "              * * * * * \n",
      "            * * * * * * * \n",
      "          * * * * * * * * * \n",
      "        * * * * * * * * * * * \n",
      "      * * * * * * * * * * * * * \n",
      "    * * * * * * * * * * * * * * * \n",
      "  * * * * * * * * * * * * * * * * * \n",
      "* * * * * * * * * * * * * * * * * * * \n"
     ]
    }
   ],
   "source": [
    "rows =10\n",
    "spaces = rows-1\n",
    "print_count = 1\n",
    "for i in range(rows):\n",
    "    for j in range(spaces):\n",
    "        print(' ',end=' ')\n",
    "        #print(end='  ')\n",
    "    spaces  -=1\n",
    "    for j in range(print_count):\n",
    "        print('*',end=' ')\n",
    "    print_count =print_count+2\n",
    "    print()"
   ]
  },
  {
   "cell_type": "code",
   "execution_count": 99,
   "id": "ec1bc8f1",
   "metadata": {},
   "outputs": [
    {
     "name": "stdout",
     "output_type": "stream",
     "text": [
      "                  0 \n",
      "                1 1 1 \n",
      "              2 2 2 2 2 \n",
      "            3 3 3 3 3 3 3 \n",
      "          4 4 4 4 4 4 4 4 4 \n",
      "        5 5 5 5 5 5 5 5 5 5 5 \n",
      "      6 6 6 6 6 6 6 6 6 6 6 6 6 \n",
      "    7 7 7 7 7 7 7 7 7 7 7 7 7 7 7 \n",
      "  8 8 8 8 8 8 8 8 8 8 8 8 8 8 8 8 8 \n",
      "9 9 9 9 9 9 9 9 9 9 9 9 9 9 9 9 9 9 9 \n"
     ]
    }
   ],
   "source": [
    "rows =10\n",
    "spaces = rows-1\n",
    "print_count = 1\n",
    "for i in range(rows):\n",
    "    for j in range(spaces):\n",
    "        print(' ',end=' ')\n",
    "        #print(end='  ')\n",
    "    spaces  -=1\n",
    "    for j in range(print_count):\n",
    "        print(i,end=' ')\n",
    "    print_count =print_count+2\n",
    "    print()"
   ]
  },
  {
   "cell_type": "code",
   "execution_count": 103,
   "id": "220f9bba",
   "metadata": {},
   "outputs": [
    {
     "name": "stdout",
     "output_type": "stream",
     "text": [
      "                  0 \n",
      "                0 1 2 \n",
      "              0 1 2 3 4 \n",
      "            0 1 2 3 4 5 6 \n",
      "          0 1 2 3 4 5 6 7 8 \n",
      "        0 1 2 3 4 5 6 7 8 9 10 \n",
      "      0 1 2 3 4 5 6 7 8 9 10 11 12 \n",
      "    0 1 2 3 4 5 6 7 8 9 10 11 12 13 14 \n",
      "  0 1 2 3 4 5 6 7 8 9 10 11 12 13 14 15 16 \n",
      "0 1 2 3 4 5 6 7 8 9 10 11 12 13 14 15 16 17 18 \n"
     ]
    }
   ],
   "source": [
    "rows =10\n",
    "spaces = rows-1\n",
    "print_count = 1\n",
    "for i in range(rows):\n",
    "    for j in range(spaces):\n",
    "        print(' ',end=' ')\n",
    "        #print(end='  ')\n",
    "    spaces  -=1\n",
    "    for j in range(print_count):\n",
    "        print(j,end=' ')\n",
    "    print_count =print_count+2\n",
    "    print()"
   ]
  },
  {
   "cell_type": "code",
   "execution_count": 107,
   "id": "c1af1056",
   "metadata": {},
   "outputs": [
    {
     "name": "stdout",
     "output_type": "stream",
     "text": [
      "                  A \n",
      "                A A A \n",
      "              A A A A A \n",
      "            A A A A A A A \n",
      "          A A A A A A A A A \n",
      "        A A A A A A A A A A A \n",
      "      A A A A A A A A A A A A A \n",
      "    A A A A A A A A A A A A A A A \n",
      "  A A A A A A A A A A A A A A A A A \n",
      "A A A A A A A A A A A A A A A A A A A \n"
     ]
    }
   ],
   "source": [
    "rows =10\n",
    "spaces = rows-1\n",
    "print_count = 1\n",
    "count=65;\n",
    "for i in range(rows):\n",
    "    for j in range(spaces):\n",
    "        print(' ',end=' ')\n",
    "        #print(end='  ')\n",
    "    spaces  -=1\n",
    "    for j in range(print_count):\n",
    "        print(chr(count),end=' ')\n",
    "    print_count =print_count+2\n",
    "    print()"
   ]
  },
  {
   "cell_type": "code",
   "execution_count": 109,
   "id": "e880d1b4",
   "metadata": {},
   "outputs": [
    {
     "name": "stdout",
     "output_type": "stream",
     "text": [
      "        A \n",
      "      B C D \n",
      "    E F G H I \n",
      "  J K L M N O P \n",
      "Q R S T U V W X Y \n"
     ]
    }
   ],
   "source": [
    "rows =5\n",
    "spaces = rows-1\n",
    "print_count = 1\n",
    "count=65;\n",
    "for i in range(rows):\n",
    "    for j in range(spaces):\n",
    "        print(' ',end=' ')\n",
    "        #print(end='  ')\n",
    "    spaces  -=1\n",
    "    for j in range(print_count):\n",
    "        print(chr(count),end=' ')\n",
    "        count=count+1\n",
    "    print_count =print_count+2\n",
    "    print()"
   ]
  },
  {
   "cell_type": "code",
   "execution_count": 110,
   "id": "08696256",
   "metadata": {},
   "outputs": [
    {
     "name": "stdout",
     "output_type": "stream",
     "text": [
      "        A \n",
      "      a a a \n",
      "    A A A A A \n",
      "  a a a a a a a \n",
      "A A A A A A A A A \n"
     ]
    }
   ],
   "source": [
    "rows =5\n",
    "spaces = rows-1\n",
    "print_count = 1\n",
    "count=65;\n",
    "for i in range(rows):\n",
    "    for j in range(spaces):\n",
    "        print(' ',end=' ')\n",
    "        #print(end='  ')\n",
    "    spaces  -=1\n",
    "    for j in range(print_count):\n",
    "        if(i%2==0):\n",
    "            print(chr(65),end=' ')\n",
    "        else:\n",
    "            print(chr(97),end=' ')\n",
    "    print_count =print_count+2\n",
    "    print()"
   ]
  },
  {
   "cell_type": "code",
   "execution_count": 112,
   "id": "7ca4ac83",
   "metadata": {},
   "outputs": [
    {
     "name": "stdout",
     "output_type": "stream",
     "text": [
      "    A\n",
      "   BBB\n",
      "  CCCCC\n",
      " DDDDDDD\n",
      "EEEEEEEEE\n"
     ]
    }
   ],
   "source": [
    "rows =5\n",
    "spaces = rows-1\n",
    "print_count = 1\n",
    "count=65;\n",
    "for i in range(rows):\n",
    "    for j in range(spaces):\n",
    "        print(' ',end='')\n",
    "        #print(end='  ')\n",
    "    spaces  -=1\n",
    "    for j in range(print_count):\n",
    "        print(chr(count),end='')\n",
    "    count+=1;\n",
    "    print_count =print_count+2\n",
    "    print()"
   ]
  },
  {
   "cell_type": "code",
   "execution_count": 114,
   "id": "ab49501a",
   "metadata": {},
   "outputs": [
    {
     "name": "stdout",
     "output_type": "stream",
     "text": [
      "         *\n",
      "        *\n",
      "       *\n",
      "      *\n",
      "     *\n",
      "    *\n",
      "   *\n",
      "  *\n",
      " *\n",
      "*\n"
     ]
    }
   ],
   "source": [
    "rows =10\n",
    "spaces = rows-1\n",
    "print_count = 1\n",
    "count=65;\n",
    "for i in range(rows):\n",
    "    for j in range(spaces):\n",
    "        print(' ',end='')\n",
    "        #print(end='  ')\n",
    "    spaces  -=1\n",
    "    for j in range(print_count):\n",
    "        print('*',end='')\n",
    "        count=count+1\n",
    "    print_count =print_count=1\n",
    "    print()"
   ]
  },
  {
   "cell_type": "code",
   "execution_count": 116,
   "id": "84843b8e",
   "metadata": {},
   "outputs": [
    {
     "name": "stdout",
     "output_type": "stream",
     "text": [
      "      * \n",
      "     * * \n",
      "    * * * \n",
      "   * * * * \n",
      "  * * * * * \n",
      " * * * * * * \n",
      "* * * * * * * \n"
     ]
    }
   ],
   "source": [
    "rows =7\n",
    "spaces = rows-1\n",
    "print_count = 1\n",
    "count=65;\n",
    "for i in range(rows):\n",
    "    for j in range(spaces):\n",
    "        print(end=' ')\n",
    "        #print(end='  ')\n",
    "    spaces  -=1\n",
    "    for j in range(print_count):\n",
    "        print('*',end=' ')\n",
    "    print_count+=1\n",
    "    print()"
   ]
  },
  {
   "cell_type": "code",
   "execution_count": 117,
   "id": "56e16bf3",
   "metadata": {},
   "outputs": [
    {
     "name": "stdout",
     "output_type": "stream",
     "text": [
      "      * \n",
      "     * * \n",
      "    * * * \n",
      "   * * * * \n",
      "  * * * * * \n",
      " * * * * * * \n",
      "* * * * * * * \n"
     ]
    }
   ],
   "source": [
    "rows =7\n",
    "spaces = rows-1\n",
    "print_count = 1\n",
    "count=65;\n",
    "for i in range(rows):\n",
    "    for j in range(spaces):\n",
    "        print(end=' ')\n",
    "        #print(end='  ')\n",
    "    spaces  -=1\n",
    "    for j in range(print_count):\n",
    "        print('*',end=' ')\n",
    "    print_count+=1\n",
    "    print()"
   ]
  },
  {
   "cell_type": "code",
   "execution_count": 122,
   "id": "ceb0d1d2",
   "metadata": {},
   "outputs": [
    {
     "name": "stdout",
     "output_type": "stream",
     "text": [
      "* * * * * * * \n",
      " * * * * * * \n",
      "  * * * * * \n",
      "   * * * * \n",
      "    * * * \n",
      "     * * \n",
      "      * \n"
     ]
    }
   ],
   "source": [
    "rows =7\n",
    "spaces = 0\n",
    "print_count = rows\n",
    "count=65;\n",
    "for i in range(rows):\n",
    "    for j in range(spaces):\n",
    "        print(end=' ')\n",
    "    spaces  +=1\n",
    "    for j in range(print_count):\n",
    "        print('*',end=' ')\n",
    "    print_count-=1\n",
    "    print()"
   ]
  },
  {
   "cell_type": "code",
   "execution_count": 129,
   "id": "46057fc6",
   "metadata": {},
   "outputs": [
    {
     "name": "stdout",
     "output_type": "stream",
     "text": [
      "     *     * * * * * * \n",
      "    * *     * * * * * \n",
      "   * * *     * * * * \n",
      "  * * * *     * * * \n",
      " * * * * *     * * \n",
      "* * * * * *     * \n"
     ]
    }
   ],
   "source": [
    "rows =6\n",
    "spaces1=rows-1\n",
    "print_count1= 1\n",
    "spaces2=rows-2\n",
    "print_count2=rows\n",
    "for i in range(rows):\n",
    "    for j in range(spaces1):\n",
    "        print(end=' ')\n",
    "    spaces1-=1\n",
    "    for j in range(print_count1):\n",
    "        print('*',end=' ')\n",
    "    print_count1+=1\n",
    "    for j in range(spaces2):\n",
    "        print(end=' ')\n",
    "    for j in range(print_count2):\n",
    "        print('*',end=' ')\n",
    "        \n",
    "    print_count2-=1\n",
    "    print()"
   ]
  },
  {
   "cell_type": "code",
   "execution_count": 146,
   "id": "90b6929f",
   "metadata": {},
   "outputs": [
    {
     "name": "stdout",
     "output_type": "stream",
     "text": [
      "    $    # # # # # \n",
      "   $ $    # # # # \n",
      "  $ $ $    # # # \n",
      " $ $ $ $    # # \n",
      "$ $ $ $ $    # \n"
     ]
    }
   ],
   "source": [
    "rows =5\n",
    "spaces1=rows-1\n",
    "print_count1= 1\n",
    "spaces2=rows-2\n",
    "print_count2=rows\n",
    "for i in range(rows):\n",
    "    for j in range(spaces1):\n",
    "        print(end=' ')\n",
    "    spaces1-=1\n",
    "    for j in range(print_count1):\n",
    "        print('$',end=' ')\n",
    "    print_count1+=1\n",
    "    for j in range(spaces2):\n",
    "        print(end=' ')\n",
    "    for j in range(print_count2):\n",
    "        print('#',end=' ')\n",
    "        \n",
    "    print_count2-=1\n",
    "    print()"
   ]
  },
  {
   "cell_type": "code",
   "execution_count": 18,
   "id": "52d249c4",
   "metadata": {},
   "outputs": [
    {
     "name": "stdout",
     "output_type": "stream",
     "text": [
      "    1    2 2 2 2 2 \n",
      "   7 7    2 2 2 2 \n",
      "  9 9 9    4 4 4 \n",
      " 1 1 1 1    2 2 \n",
      "7 7 7 7 7    2 \n"
     ]
    }
   ],
   "source": [
    "rows =5\n",
    "spaces1=rows-1\n",
    "print_count1= 1\n",
    "spaces2=rows-2\n",
    "print_count2=rows\n",
    "for i in range(rows):\n",
    "    for j in range(spaces1):\n",
    "        print(end=' ')\n",
    "    spaces1-=1\n",
    "    for j in range(print_count1):\n",
    "        if(i%3==0):\n",
    "            print('1',end=' ')\n",
    "        elif(i%3==1):\n",
    "            print('7',end=' ')\n",
    "        else:\n",
    "            print('9',end=' ')\n",
    "    print_count1+=1\n",
    "    for j in range(spaces2):\n",
    "        print(end=' ')\n",
    "    for j in range(print_count2):\n",
    "        if(i%3==0):\n",
    "            print('2',end=' ')\n",
    "        elif(i%3==1):\n",
    "            print('2',end=' ')\n",
    "        else:\n",
    "            print('4',end=' ')\n",
    "    print_count2-=1\n",
    "    print()"
   ]
  },
  {
   "cell_type": "code",
   "execution_count": 19,
   "id": "952d916b",
   "metadata": {},
   "outputs": [
    {
     "name": "stdout",
     "output_type": "stream",
     "text": [
      "           1           2 2 2 2 2 2 2 2 2 2 2 2 \n",
      "          7 7           3 3 3 3 3 3 3 3 3 3 3 \n",
      "         9 9 9           4 4 4 4 4 4 4 4 4 4 \n",
      "        1 1 1 1           2 2 2 2 2 2 2 2 2 \n",
      "       7 7 7 7 7           3 3 3 3 3 3 3 3 \n",
      "      9 9 9 9 9 9           4 4 4 4 4 4 4 \n",
      "     1 1 1 1 1 1 1           2 2 2 2 2 2 \n",
      "    7 7 7 7 7 7 7 7           3 3 3 3 3 \n",
      "   9 9 9 9 9 9 9 9 9           4 4 4 4 \n",
      "  1 1 1 1 1 1 1 1 1 1           2 2 2 \n",
      " 7 7 7 7 7 7 7 7 7 7 7           3 3 \n",
      "9 9 9 9 9 9 9 9 9 9 9 9           4 \n"
     ]
    }
   ],
   "source": [
    "rows = 12\n",
    "spaces1 = rows - 1\n",
    "print_count1 = 1\n",
    "spaces2 = rows - 2\n",
    "print_count2 = rows\n",
    "for i in range(rows):\n",
    "    for j in range(spaces1):\n",
    "        print(end = ' ')\n",
    "    spaces1-=1\n",
    "    for j in range(print_count1):\n",
    "        if(i%3 == 0):\n",
    "            print('1', end = ' ')\n",
    "        elif(i%3 == 1):\n",
    "            print('7', end = ' ')\n",
    "        else:\n",
    "            print('9', end = ' ')\n",
    "    print_count1+=1\n",
    "    for j in range(spaces2):\n",
    "        print(end = ' ')\n",
    "    for j in range(print_count2):\n",
    "        if(i%3 == 0):\n",
    "            print('2', end = ' ')\n",
    "        elif(i%3 == 1):\n",
    "            print('3', end = ' ')\n",
    "        else:\n",
    "            print('4', end = ' ')\n",
    "    print_count2-=1\n",
    "    print()"
   ]
  },
  {
   "cell_type": "code",
   "execution_count": 60,
   "id": "94126c70",
   "metadata": {},
   "outputs": [
    {
     "name": "stdout",
     "output_type": "stream",
     "text": [
      "hello\n"
     ]
    }
   ],
   "source": [
    "print(\"hello\")"
   ]
  },
  {
   "cell_type": "code",
   "execution_count": 61,
   "id": "77b5925e",
   "metadata": {},
   "outputs": [
    {
     "name": "stdout",
     "output_type": "stream",
     "text": [
      "*        *\n",
      "**      **\n",
      "***    ***\n",
      "****  ****\n",
      "**********\n"
     ]
    }
   ],
   "source": [
    "rows = 5\n",
    "print_count=1\n",
    "spaces = 2*rows - 2\n",
    "for i in range(rows):\n",
    "    for j in range(print_count):\n",
    "        print('*', end = '')\n",
    "    for j in range(spaces):\n",
    "        print(end = ' ')\n",
    "    spaces-=2\n",
    "    for j in range(print_count):\n",
    "        print('*', end = '')\n",
    "    print_count+=1\n",
    "    print()"
   ]
  },
  {
   "cell_type": "code",
   "execution_count": 62,
   "id": "a05c15bb",
   "metadata": {},
   "outputs": [
    {
     "name": "stdout",
     "output_type": "stream",
     "text": [
      "7        7\n",
      "99      99\n",
      "777    777\n",
      "9999  9999\n",
      "7777777777\n"
     ]
    }
   ],
   "source": [
    "rows = 5\n",
    "print_count =1 \n",
    "spaces = 2*rows -2 \n",
    "for i in range(rows):\n",
    "    for j in range(print_count):\n",
    "        if(i%2==0):\n",
    "            print('7',end = '')\n",
    "        else:\n",
    "            print('9',end = '')\n",
    "    for j in range(spaces):\n",
    "        print(end =' ')\n",
    "    spaces-=2\n",
    "    for j in range(print_count):\n",
    "        if(i%2==0):\n",
    "            print('7',end = '')\n",
    "        else:\n",
    "            print('9',end = '')\n",
    "    print_count+=1\n",
    "    print()"
   ]
  },
  {
   "cell_type": "code",
   "execution_count": 63,
   "id": "054a1c9d",
   "metadata": {},
   "outputs": [
    {
     "name": "stdout",
     "output_type": "stream",
     "text": [
      "0        0\n",
      "01      01\n",
      "012    012\n",
      "0123  0123\n",
      "0123401234\n"
     ]
    }
   ],
   "source": [
    "rows = 5\n",
    "print_count =1 \n",
    "spaces = 2*rows -2 \n",
    "for i in range(rows):\n",
    "    for j in range(print_count):\n",
    "        print(j, end = '')\n",
    "    for j in range(spaces):\n",
    "        print(end =' ')\n",
    "    spaces-=2\n",
    "    for j in range(print_count):\n",
    "        print(j, end = '')\n",
    "    print_count+=1\n",
    "    print()"
   ]
  },
  {
   "cell_type": "code",
   "execution_count": 64,
   "id": "88eb1b86",
   "metadata": {},
   "outputs": [
    {
     "name": "stdout",
     "output_type": "stream",
     "text": [
      "       *\n",
      "      ***\n",
      "     *****\n",
      "    *******\n",
      "   *********\n",
      "  ***********\n",
      " *************\n",
      "***************\n",
      "***************\n",
      " *************\n",
      "  ***********\n",
      "   *********\n",
      "    *******\n",
      "     *****\n",
      "      ***\n",
      "       *\n"
     ]
    }
   ],
   "source": [
    "rows = 8\n",
    "spaces1 = rows - 1\n",
    "print_count1 =1\n",
    "for i in range(rows):\n",
    "    for j in range(spaces1):\n",
    "        print(end =' ')\n",
    "    spaces1-=1\n",
    "    for j in range(print_count1):\n",
    "        print('*', end= '')\n",
    "    print_count1+=2\n",
    "    print()\n",
    "spaces2= 0\n",
    "print_count2= 2*rows -1\n",
    "for i in range(rows):\n",
    "    for j in range(spaces2):\n",
    "        print(end =' ')\n",
    "    spaces2+=1\n",
    "    for j in range(print_count2):\n",
    "        print('*', end ='')\n",
    "    print_count2-=2\n",
    "    print()"
   ]
  },
  {
   "cell_type": "code",
   "execution_count": 65,
   "id": "2263beb9",
   "metadata": {},
   "outputs": [
    {
     "name": "stdout",
     "output_type": "stream",
     "text": [
      "       *\n",
      "      ***\n",
      "     *****\n",
      "    *******\n",
      "   *********\n",
      "  ***********\n",
      " *************\n",
      "***************\n",
      " *************\n",
      "  ***********\n",
      "   *********\n",
      "    *******\n",
      "     *****\n",
      "      ***\n",
      "       *\n",
      "        \n"
     ]
    }
   ],
   "source": [
    "rows = 8\n",
    "spaces1 = rows - 1\n",
    "print_count1 =1\n",
    "for i in range(rows):\n",
    "    for j in range(spaces1):\n",
    "        print(end =' ')\n",
    "    spaces1-=1\n",
    "    for j in range(print_count1):\n",
    "        print('*', end= '')\n",
    "    print_count1+=2\n",
    "    print()\n",
    "spaces2= 1\n",
    "print_count2= 2*rows -3\n",
    "for i in range(rows):\n",
    "    for j in range(spaces2):\n",
    "        print(end =' ')\n",
    "    spaces2+=1\n",
    "    for j in range(print_count2):\n",
    "        print('*', end ='')\n",
    "    print_count2-=2\n",
    "    print()"
   ]
  },
  {
   "cell_type": "markdown",
   "id": "d5fc3e93",
   "metadata": {},
   "source": [
    "# List"
   ]
  },
  {
   "cell_type": "code",
   "execution_count": 66,
   "id": "d4766072",
   "metadata": {},
   "outputs": [
    {
     "data": {
      "text/plain": [
       "[1, 2, 3, 4, 5]"
      ]
     },
     "execution_count": 66,
     "metadata": {},
     "output_type": "execute_result"
    }
   ],
   "source": [
    "lst=[1,2,3,4,5]\n",
    "lst\n"
   ]
  },
  {
   "cell_type": "code",
   "execution_count": 67,
   "id": "b1f8c01c",
   "metadata": {},
   "outputs": [
    {
     "data": {
      "text/plain": [
       "2"
      ]
     },
     "execution_count": 67,
     "metadata": {},
     "output_type": "execute_result"
    }
   ],
   "source": [
    "lst[1]"
   ]
  },
  {
   "cell_type": "code",
   "execution_count": 72,
   "id": "7dc79ba1",
   "metadata": {},
   "outputs": [
    {
     "name": "stdout",
     "output_type": "stream",
     "text": [
      "[1, 2, 3, 4, 5]\n",
      "[1, 2, 3, 4, 5]\n",
      "[1, 2, 3, 4, 5]\n",
      "[1, 2, 3, 4, 5]\n",
      "[1, 2, 3, 4, 5]\n",
      "[1, 2, 3, 4, 5]\n",
      "[1, 3, 5]\n",
      "[2, 4]\n",
      "[3]\n"
     ]
    }
   ],
   "source": [
    "#ways to print list\n",
    "print(lst)\n",
    "print(lst[:])\n",
    "print(lst[::])  # default start index= 0; Default step size = 1\n",
    "print(lst[0:])\n",
    "print(lst[0::])\n",
    "print(lst[0::1])\n",
    "print(lst[0::2])\n",
    "print(lst[1::2])\n",
    "print(lst[2:7:3])"
   ]
  },
  {
   "cell_type": "code",
   "execution_count": 73,
   "id": "ff02ec7a",
   "metadata": {},
   "outputs": [
    {
     "name": "stdout",
     "output_type": "stream",
     "text": [
      "[3, 6, 2]\n",
      "[3, 6, 2, 7, 9, 1, 8, 5]\n",
      "[2, 7, 9]\n"
     ]
    }
   ],
   "source": [
    "lst=[3,6,2,7,9,1,8,5]\n",
    "print(lst[0:3])\n",
    "print(lst[0:8])\n",
    "print(lst[2:5])"
   ]
  },
  {
   "cell_type": "code",
   "execution_count": 74,
   "id": "adcee032",
   "metadata": {},
   "outputs": [
    {
     "name": "stdout",
     "output_type": "stream",
     "text": [
      "5\n",
      "7\n",
      "[5, 8, 1, 9, 7, 2]\n"
     ]
    }
   ],
   "source": [
    "lst=[3,6,2,7,9,1,8,5]\n",
    "print(lst[-1])\n",
    "print(lst[-5])\n",
    "print(lst[7:1:-1])"
   ]
  },
  {
   "cell_type": "code",
   "execution_count": 75,
   "id": "03efca05",
   "metadata": {},
   "outputs": [
    {
     "name": "stdout",
     "output_type": "stream",
     "text": [
      "[5, 8, 1, 9, 7, 2, 6, 3]\n",
      "[3, 6, 2, 7, 9, 1, 8]\n"
     ]
    }
   ],
   "source": [
    "lst=[3,6,2,7,9,1,8,5]\n",
    "print(lst[::-1])  # here -1 is step size\n",
    "print(lst[:-1]) # here -1 is end index"
   ]
  },
  {
   "cell_type": "code",
   "execution_count": 77,
   "id": "1b30ef3a",
   "metadata": {},
   "outputs": [
    {
     "name": "stdout",
     "output_type": "stream",
     "text": [
      "[1, 2, 3]\n",
      "[1, 2, 3, 4]\n",
      "[1, 2, 3, 4, 'Anirudh']\n",
      "[1, 2, 3, 4, 'Anirudh', 31.1]\n"
     ]
    }
   ],
   "source": [
    "lst = [1,2,3]\n",
    "print(lst)\n",
    "lst.append(4)\n",
    "print(lst)\n",
    "lst.append('Anirudh')\n",
    "print(lst) \n",
    "lst.append(31.1)   # Lists are hetrogenous\n",
    "print(lst)"
   ]
  },
  {
   "cell_type": "code",
   "execution_count": 78,
   "id": "8ed537bd",
   "metadata": {},
   "outputs": [
    {
     "data": {
      "text/plain": [
       "list"
      ]
     },
     "execution_count": 78,
     "metadata": {},
     "output_type": "execute_result"
    }
   ],
   "source": [
    "lst =[1,2,3,4,5]\n",
    "type(lst)"
   ]
  },
  {
   "cell_type": "code",
   "execution_count": 79,
   "id": "1ef42887",
   "metadata": {},
   "outputs": [
    {
     "name": "stdout",
     "output_type": "stream",
     "text": [
      "<class 'list'>\n"
     ]
    }
   ],
   "source": [
    "lst =[1,2,3,4,5]\n",
    "print(type(lst))"
   ]
  },
  {
   "cell_type": "code",
   "execution_count": 80,
   "id": "6113400f",
   "metadata": {},
   "outputs": [
    {
     "data": {
      "text/plain": [
       "int"
      ]
     },
     "execution_count": 80,
     "metadata": {},
     "output_type": "execute_result"
    }
   ],
   "source": [
    "type(1)"
   ]
  },
  {
   "cell_type": "code",
   "execution_count": 81,
   "id": "c54145fe",
   "metadata": {},
   "outputs": [
    {
     "name": "stdout",
     "output_type": "stream",
     "text": [
      "<class 'int'>\n"
     ]
    }
   ],
   "source": [
    "print(type(1))    # Everything is object in python"
   ]
  },
  {
   "cell_type": "code",
   "execution_count": 82,
   "id": "5e87af0a",
   "metadata": {},
   "outputs": [
    {
     "name": "stdout",
     "output_type": "stream",
     "text": [
      "['Python', 'Anaconda', 'Cobra', 'Viper', 'Rattle Snake']\n"
     ]
    }
   ],
   "source": [
    "lst =['Python', 'Anaconda','Cobra']\n",
    "lst.append('Viper')\n",
    "lst.append('Rattle Snake')\n",
    "print(lst)"
   ]
  },
  {
   "cell_type": "code",
   "execution_count": 83,
   "id": "5658e8a3",
   "metadata": {},
   "outputs": [
    {
     "name": "stdout",
     "output_type": "stream",
     "text": [
      "['Python', 'Anaconda', 'Cobra', 'Viper']\n"
     ]
    }
   ],
   "source": [
    "lst.remove('Rattle Snake')\n",
    "print(lst)   # if run twice"
   ]
  },
  {
   "cell_type": "code",
   "execution_count": 84,
   "id": "ce5b00c3",
   "metadata": {},
   "outputs": [
    {
     "name": "stdout",
     "output_type": "stream",
     "text": [
      "['Python', 'Anaconda', 'Cobra', 'Viper']\n",
      "['Python', 'Rattle Snake', 'Anaconda', 'Cobra', 'Viper']\n"
     ]
    }
   ],
   "source": [
    "lst =['Python', 'Anaconda', 'Cobra', 'Viper']\n",
    "print(lst)\n",
    "lst.insert(1,'Rattle Snake')\n",
    "print(lst)"
   ]
  },
  {
   "cell_type": "code",
   "execution_count": 85,
   "id": "1f433b67",
   "metadata": {},
   "outputs": [
    {
     "name": "stdout",
     "output_type": "stream",
     "text": [
      "['Python', 'Anaconda', 'Cobra', 'Viper']\n",
      "['Python', 'Anaconda', 'Cobra']\n"
     ]
    }
   ],
   "source": [
    "lst =['Python', 'Anaconda', 'Cobra', 'Viper']\n",
    "print(lst)\n",
    "lst.pop()\n",
    "print(lst)"
   ]
  },
  {
   "cell_type": "code",
   "execution_count": 86,
   "id": "e04403a8",
   "metadata": {},
   "outputs": [
    {
     "name": "stdout",
     "output_type": "stream",
     "text": [
      "['Python', 'Anaconda', 'Cobra', 'Viper']\n",
      "['Anaconda', 'Cobra', 'Viper']\n"
     ]
    }
   ],
   "source": [
    "lst =['Python', 'Anaconda', 'Cobra', 'Viper']\n",
    "print(lst)\n",
    "lst.pop(0)\n",
    "print(lst)"
   ]
  },
  {
   "cell_type": "code",
   "execution_count": 87,
   "id": "b1256c0c",
   "metadata": {},
   "outputs": [
    {
     "data": {
      "text/plain": [
       "[1, 2, 3, 4, 5, 6, 7, 8, 9, 10]"
      ]
     },
     "execution_count": 87,
     "metadata": {},
     "output_type": "execute_result"
    }
   ],
   "source": [
    "lst1 = [1,2,3,4,5]\n",
    "lst2 = [6,7,8,9,10]\n",
    "lst1 + lst2"
   ]
  },
  {
   "cell_type": "code",
   "execution_count": 88,
   "id": "d8f10cb7",
   "metadata": {},
   "outputs": [
    {
     "name": "stdout",
     "output_type": "stream",
     "text": [
      "[1, 2, 3, 4, 5, [6, 7, 8, 9, 10]]\n",
      "[6, 7, 8, 9, 10]\n"
     ]
    }
   ],
   "source": [
    "lst1 = [1,2,3,4,5]\n",
    "lst2 = [6,7,8,9,10]\n",
    "lst1.append(lst2)\n",
    "print(lst1)\n",
    "print(lst2)"
   ]
  },
  {
   "cell_type": "code",
   "execution_count": 89,
   "id": "32366686",
   "metadata": {},
   "outputs": [
    {
     "name": "stdout",
     "output_type": "stream",
     "text": [
      "[1, 2, 3, 4, 5, 6, 7, 8, 9, 10]\n",
      "[6, 7, 8, 9, 10]\n"
     ]
    }
   ],
   "source": [
    "lst1 = [1,2,3,4,5]\n",
    "lst2 = [6,7,8,9,10]\n",
    "lst1 = lst1 + lst2\n",
    "print(lst1)\n",
    "print(lst2)"
   ]
  },
  {
   "cell_type": "code",
   "execution_count": 90,
   "id": "16971bd1",
   "metadata": {},
   "outputs": [
    {
     "name": "stdout",
     "output_type": "stream",
     "text": [
      "[1, 2, 3, 4, 5, 6, 7, 8, 9, 10]\n",
      "[6, 7, 8, 9, 10]\n"
     ]
    }
   ],
   "source": [
    "lst1 = [1,2,3,4,5]\n",
    "lst2 = [6,7,8,9,10]\n",
    "lst1.extend(lst2)\n",
    "print(lst1)\n",
    "print(lst2)"
   ]
  },
  {
   "cell_type": "code",
   "execution_count": 91,
   "id": "fe402d6a",
   "metadata": {},
   "outputs": [
    {
     "name": "stdout",
     "output_type": "stream",
     "text": [
      "[]\n",
      "[1]\n"
     ]
    }
   ],
   "source": [
    "lst = []\n",
    "print(lst)\n",
    "lst.append(1)\n",
    "print(lst)\n"
   ]
  },
  {
   "cell_type": "code",
   "execution_count": 92,
   "id": "6ee11e63",
   "metadata": {},
   "outputs": [
    {
     "name": "stdout",
     "output_type": "stream",
     "text": [
      "[]\n",
      "[1]\n"
     ]
    }
   ],
   "source": [
    "lst = list()\n",
    "print(lst)\n",
    "lst.append(1)\n",
    "print(lst)\n"
   ]
  },
  {
   "cell_type": "code",
   "execution_count": 94,
   "id": "360db17b",
   "metadata": {},
   "outputs": [
    {
     "name": "stdout",
     "output_type": "stream",
     "text": [
      "5\n"
     ]
    },
    {
     "ename": "NameError",
     "evalue": "name 'lst' is not defined",
     "output_type": "error",
     "traceback": [
      "\u001b[1;31m---------------------------------------------------------------------------\u001b[0m",
      "\u001b[1;31mNameError\u001b[0m                                 Traceback (most recent call last)",
      "Input \u001b[1;32mIn [94]\u001b[0m, in \u001b[0;36m<cell line: 4>\u001b[1;34m()\u001b[0m\n\u001b[0;32m      2\u001b[0m \u001b[38;5;28mprint\u001b[39m(\u001b[38;5;28mlen\u001b[39m(lst))\n\u001b[0;32m      3\u001b[0m \u001b[38;5;28;01mdel\u001b[39;00m lst\n\u001b[1;32m----> 4\u001b[0m \u001b[38;5;28mprint\u001b[39m(\u001b[43mlst\u001b[49m)\n",
      "\u001b[1;31mNameError\u001b[0m: name 'lst' is not defined"
     ]
    }
   ],
   "source": [
    "['Python', 'Rattle Snake', 'Anaconda', 'Cobra', 'Viper']\n",
    "print(len(lst))\n",
    "del lst\n",
    "print(lst)"
   ]
  },
  {
   "cell_type": "code",
   "execution_count": 95,
   "id": "27b79ac6",
   "metadata": {},
   "outputs": [
    {
     "name": "stdout",
     "output_type": "stream",
     "text": [
      "9\n",
      "1\n"
     ]
    }
   ],
   "source": [
    "lst =[4,2,6,9,1,5]\n",
    "print(max(lst))\n",
    "print(min(lst))"
   ]
  },
  {
   "cell_type": "code",
   "execution_count": 96,
   "id": "8911b3ee",
   "metadata": {},
   "outputs": [
    {
     "name": "stdout",
     "output_type": "stream",
     "text": [
      "Viper\n",
      "Anaconda\n"
     ]
    }
   ],
   "source": [
    "lst = ['Python', 'Rattle Snake', 'Anaconda', 'Cobra', 'Viper']\n",
    "print(max(lst))\n",
    "print(min(lst))"
   ]
  },
  {
   "cell_type": "code",
   "execution_count": 97,
   "id": "7cf12088",
   "metadata": {},
   "outputs": [
    {
     "name": "stdout",
     "output_type": "stream",
     "text": [
      "[1, 2, 4, 5, 6, 9]\n"
     ]
    }
   ],
   "source": [
    "lst =[4,2,6,9,1,5]\n",
    "lst.sort()\n",
    "print(lst)"
   ]
  },
  {
   "cell_type": "code",
   "execution_count": 98,
   "id": "ef07cdef",
   "metadata": {},
   "outputs": [
    {
     "name": "stdout",
     "output_type": "stream",
     "text": [
      "[9, 6, 5, 4, 2, 1]\n"
     ]
    }
   ],
   "source": [
    "lst =[4,2,6,9,1,5]\n",
    "lst.sort(reverse = True)\n",
    "print(lst)"
   ]
  },
  {
   "cell_type": "code",
   "execution_count": 99,
   "id": "a24d49e4",
   "metadata": {},
   "outputs": [
    {
     "name": "stdout",
     "output_type": "stream",
     "text": [
      "[1, 2, 3, 4, 6, 7, 8, 9]\n",
      "[3, 6, 4, 8, 7, 9, 1, 2]\n"
     ]
    }
   ],
   "source": [
    "lst =[3,6,4,8,7,9,1,2]\n",
    "print(sorted(lst))\n",
    "print(lst)"
   ]
  },
  {
   "cell_type": "code",
   "execution_count": 102,
   "id": "99c1b2b8",
   "metadata": {},
   "outputs": [
    {
     "name": "stdout",
     "output_type": "stream",
     "text": [
      "[1, 2, 3, 4, 6, 7, 8, 9]\n"
     ]
    }
   ],
   "source": [
    "lst =[3,6,4,8,7,9,1,2]\n",
    "print(sorted(lst))\n"
   ]
  },
  {
   "cell_type": "code",
   "execution_count": 103,
   "id": "b3fd4503",
   "metadata": {},
   "outputs": [
    {
     "name": "stdout",
     "output_type": "stream",
     "text": [
      "[9, 8, 7, 6, 4, 3, 2, 1]\n"
     ]
    }
   ],
   "source": [
    "lst =[3,6,4,8,7,9,1,2]\n",
    "lst = sorted(lst, reverse = True)\n",
    "print(lst)"
   ]
  },
  {
   "cell_type": "code",
   "execution_count": 105,
   "id": "369bce48",
   "metadata": {},
   "outputs": [
    {
     "ename": "TypeError",
     "evalue": "sorted expected 1 argument, got 0",
     "output_type": "error",
     "traceback": [
      "\u001b[1;31m---------------------------------------------------------------------------\u001b[0m",
      "\u001b[1;31mTypeError\u001b[0m                                 Traceback (most recent call last)",
      "Input \u001b[1;32mIn [105]\u001b[0m, in \u001b[0;36m<cell line: 2>\u001b[1;34m()\u001b[0m\n\u001b[0;32m      1\u001b[0m lst \u001b[38;5;241m=\u001b[39m[\u001b[38;5;241m3\u001b[39m,\u001b[38;5;241m6\u001b[39m,\u001b[38;5;241m4\u001b[39m,\u001b[38;5;241m8\u001b[39m,\u001b[38;5;241m7\u001b[39m,\u001b[38;5;241m9\u001b[39m,\u001b[38;5;241m1\u001b[39m,\u001b[38;5;241m2\u001b[39m]\n\u001b[1;32m----> 2\u001b[0m lst \u001b[38;5;241m=\u001b[39m \u001b[38;5;28;43msorted\u001b[39;49m\u001b[43m(\u001b[49m\u001b[43m)\u001b[49m\n\u001b[0;32m      3\u001b[0m \u001b[38;5;28mprint\u001b[39m(lst)\n",
      "\u001b[1;31mTypeError\u001b[0m: sorted expected 1 argument, got 0"
     ]
    }
   ],
   "source": [
    "lst =[3,6,4,8,7,9,1,2]\n",
    "lst = sorted()\n",
    "print(lst)"
   ]
  },
  {
   "cell_type": "code",
   "execution_count": 106,
   "id": "03a7e1aa",
   "metadata": {},
   "outputs": [
    {
     "data": {
      "text/plain": [
       "[1, 2, 3, 4, 5, 6, 7, 8, 9, 10, 11, 12, 13, 14, 15, 16, 17, 18, 19, 20]"
      ]
     },
     "execution_count": 106,
     "metadata": {},
     "output_type": "execute_result"
    }
   ],
   "source": [
    "list(range(1,21))"
   ]
  },
  {
   "cell_type": "code",
   "execution_count": 107,
   "id": "777b6d1b",
   "metadata": {},
   "outputs": [
    {
     "data": {
      "text/plain": [
       "[1, 3, 5, 7, 9, 11, 13, 15, 17, 19]"
      ]
     },
     "execution_count": 107,
     "metadata": {},
     "output_type": "execute_result"
    }
   ],
   "source": [
    "list(range(1,21,2))"
   ]
  },
  {
   "cell_type": "code",
   "execution_count": 108,
   "id": "6c13f08d",
   "metadata": {},
   "outputs": [
    {
     "name": "stdout",
     "output_type": "stream",
     "text": [
      "[1, 2, 3, 1, 2, 3, 1, 2, 3]\n"
     ]
    }
   ],
   "source": [
    "lst =[1,2,3]\n",
    "print(lst * 3)\n"
   ]
  },
  {
   "cell_type": "markdown",
   "id": "0c107fb8",
   "metadata": {},
   "source": [
    "# Tuples"
   ]
  },
  {
   "cell_type": "code",
   "execution_count": 109,
   "id": "85fedb6a",
   "metadata": {},
   "outputs": [
    {
     "name": "stdout",
     "output_type": "stream",
     "text": [
      "()\n"
     ]
    }
   ],
   "source": [
    "mytuple = tuple()\n",
    "print(mytuple)"
   ]
  },
  {
   "cell_type": "code",
   "execution_count": 110,
   "id": "e201fe09",
   "metadata": {},
   "outputs": [
    {
     "name": "stdout",
     "output_type": "stream",
     "text": [
      "(1, 2, 3, 4, 5)\n"
     ]
    },
    {
     "ename": "TypeError",
     "evalue": "'tuple' object does not support item assignment",
     "output_type": "error",
     "traceback": [
      "\u001b[1;31m---------------------------------------------------------------------------\u001b[0m",
      "\u001b[1;31mTypeError\u001b[0m                                 Traceback (most recent call last)",
      "Input \u001b[1;32mIn [110]\u001b[0m, in \u001b[0;36m<cell line: 3>\u001b[1;34m()\u001b[0m\n\u001b[0;32m      1\u001b[0m mytuple \u001b[38;5;241m=\u001b[39m(\u001b[38;5;241m1\u001b[39m,\u001b[38;5;241m2\u001b[39m,\u001b[38;5;241m3\u001b[39m,\u001b[38;5;241m4\u001b[39m,\u001b[38;5;241m5\u001b[39m)\n\u001b[0;32m      2\u001b[0m \u001b[38;5;28mprint\u001b[39m(mytuple)\n\u001b[1;32m----> 3\u001b[0m mytuple[\u001b[38;5;241m0\u001b[39m] \u001b[38;5;241m=\u001b[39m\u001b[38;5;241m7\u001b[39m\n\u001b[0;32m      4\u001b[0m \u001b[38;5;28mprint\u001b[39m(mytuple)\n",
      "\u001b[1;31mTypeError\u001b[0m: 'tuple' object does not support item assignment"
     ]
    }
   ],
   "source": [
    "mytuple =(1,2,3,4,5)\n",
    "print(mytuple)\n",
    "mytuple[0] =7\n",
    "print(mytuple)"
   ]
  },
  {
   "cell_type": "code",
   "execution_count": 111,
   "id": "9553e754",
   "metadata": {},
   "outputs": [
    {
     "data": {
      "text/plain": [
       "(1, 2, 3, 4, 5, 6, 7, 8, 9)"
      ]
     },
     "execution_count": 111,
     "metadata": {},
     "output_type": "execute_result"
    }
   ],
   "source": [
    "mytuple1 =(1,2,3,4,5)\n",
    "mytuple2 =(6,7,8,9)\n",
    "mytuple1 + mytuple2"
   ]
  },
  {
   "cell_type": "code",
   "execution_count": 112,
   "id": "019f11a3",
   "metadata": {},
   "outputs": [
    {
     "name": "stdout",
     "output_type": "stream",
     "text": [
      "python\n",
      "viper\n",
      "('python', 'cobra')\n"
     ]
    }
   ],
   "source": [
    "mytuple =('python', 'anaconda' , 'cobra', 'viper')\n",
    "print(mytuple[0])\n",
    "print(mytuple[-1])\n",
    "print(mytuple[::2])"
   ]
  },
  {
   "cell_type": "code",
   "execution_count": 113,
   "id": "d9425f70",
   "metadata": {},
   "outputs": [
    {
     "name": "stdout",
     "output_type": "stream",
     "text": [
      "('python', 'anaconda', 'cobra', 'viper', 'python', 'anaconda', 'cobra', 'viper', 'python', 'anaconda', 'cobra', 'viper')\n"
     ]
    }
   ],
   "source": [
    "snakes =('python', 'anaconda' , 'cobra', 'viper')\n",
    "print(snakes *3)"
   ]
  },
  {
   "cell_type": "code",
   "execution_count": 114,
   "id": "b790afc6",
   "metadata": {},
   "outputs": [
    {
     "name": "stdout",
     "output_type": "stream",
     "text": [
      "pythonpythonpythonpythonpython\n"
     ]
    }
   ],
   "source": [
    "snakes =('python')\n",
    "print (snakes *5)"
   ]
  },
  {
   "cell_type": "code",
   "execution_count": 115,
   "id": "3018bbce",
   "metadata": {},
   "outputs": [
    {
     "ename": "NameError",
     "evalue": "name 'snakes' is not defined",
     "output_type": "error",
     "traceback": [
      "\u001b[1;31m---------------------------------------------------------------------------\u001b[0m",
      "\u001b[1;31mNameError\u001b[0m                                 Traceback (most recent call last)",
      "Input \u001b[1;32mIn [115]\u001b[0m, in \u001b[0;36m<cell line: 3>\u001b[1;34m()\u001b[0m\n\u001b[0;32m      1\u001b[0m snakes \u001b[38;5;241m=\u001b[39m(\u001b[38;5;124m'\u001b[39m\u001b[38;5;124mpython\u001b[39m\u001b[38;5;124m'\u001b[39m, \u001b[38;5;124m'\u001b[39m\u001b[38;5;124manaconda\u001b[39m\u001b[38;5;124m'\u001b[39m , \u001b[38;5;124m'\u001b[39m\u001b[38;5;124mcobra\u001b[39m\u001b[38;5;124m'\u001b[39m, \u001b[38;5;124m'\u001b[39m\u001b[38;5;124mviper\u001b[39m\u001b[38;5;124m'\u001b[39m)\n\u001b[0;32m      2\u001b[0m \u001b[38;5;28;01mdel\u001b[39;00m snakes\n\u001b[1;32m----> 3\u001b[0m \u001b[38;5;28mprint\u001b[39m(\u001b[43msnakes\u001b[49m)\n",
      "\u001b[1;31mNameError\u001b[0m: name 'snakes' is not defined"
     ]
    }
   ],
   "source": [
    "snakes =('python', 'anaconda' , 'cobra', 'viper')\n",
    "del snakes\n",
    "print(snakes)"
   ]
  },
  {
   "cell_type": "code",
   "execution_count": 116,
   "id": "80e85cdc",
   "metadata": {},
   "outputs": [
    {
     "name": "stdout",
     "output_type": "stream",
     "text": [
      "viper\n",
      "anaconda\n"
     ]
    }
   ],
   "source": [
    "snakes =('python', 'anaconda' , 'cobra', 'viper')\n",
    "print(max(snakes))\n",
    "print(min(snakes))"
   ]
  },
  {
   "cell_type": "code",
   "execution_count": 117,
   "id": "af99e172",
   "metadata": {},
   "outputs": [
    {
     "name": "stdout",
     "output_type": "stream",
     "text": [
      "5\n",
      "5\n",
      "1\n"
     ]
    }
   ],
   "source": [
    "mytuple = (1,2,3,4,5)\n",
    "print(len(mytuple))\n",
    "print(max(mytuple))\n",
    "print(min(mytuple))"
   ]
  },
  {
   "cell_type": "markdown",
   "id": "a21de02d",
   "metadata": {},
   "source": [
    "# List of Tuples"
   ]
  },
  {
   "cell_type": "code",
   "execution_count": 118,
   "id": "667c37c9",
   "metadata": {},
   "outputs": [
    {
     "name": "stdout",
     "output_type": "stream",
     "text": [
      "[(-5, -2), (-3, -3), (-3, 2), (1, 1), (1, 3), (5, -4)]\n"
     ]
    }
   ],
   "source": [
    "lst = [(1,1),(1,3),(-3,2),(-5,-2),(-3,-3),(5,-4)]\n",
    "lst.sort()\n",
    "print(lst)"
   ]
  },
  {
   "cell_type": "code",
   "execution_count": 119,
   "id": "90de71f9",
   "metadata": {},
   "outputs": [
    {
     "name": "stdout",
     "output_type": "stream",
     "text": [
      "[(5, -4), (1, 3), (1, 1), (-3, 2), (-3, -3), (-5, -2)]\n"
     ]
    }
   ],
   "source": [
    "lst = [(1,1),(1,3),(-3,2),(-5,-2),(-3,-3),(5,-4)]\n",
    "lst.sort(reverse = True)\n",
    "print(lst)"
   ]
  },
  {
   "cell_type": "code",
   "execution_count": 120,
   "id": "8efc977c",
   "metadata": {},
   "outputs": [
    {
     "name": "stdout",
     "output_type": "stream",
     "text": [
      "[(5, -4), (1, 3), (1, 1), (-3, 2), (-3, -3), (-5, -2)]\n"
     ]
    }
   ],
   "source": [
    "lst = [(1,1),(1,3),(-3,2),(-5,-2),(-3,-3),(5,-4)]\n",
    "lst = sorted(lst, reverse = True)\n",
    "print(lst)"
   ]
  },
  {
   "cell_type": "code",
   "execution_count": 121,
   "id": "85244d3c",
   "metadata": {},
   "outputs": [
    {
     "name": "stdout",
     "output_type": "stream",
     "text": [
      "[(5, -4), (-3, -3), (-5, -2), (1, 1), (-3, 2), (1, 3)]\n"
     ]
    }
   ],
   "source": [
    "lst = [(1,1),(1,3),(-3,2),(-5,-2),(-3,-3),(5,-4)]\n",
    "lst.sort(key = lambda x : x[1])\n",
    "print(lst)"
   ]
  },
  {
   "cell_type": "code",
   "execution_count": 122,
   "id": "d9435735",
   "metadata": {},
   "outputs": [
    {
     "name": "stdout",
     "output_type": "stream",
     "text": [
      "[(5, -4), (-3, -3), (-5, -2), (1, 1), (-3, 2), (1, 3)]\n"
     ]
    }
   ],
   "source": [
    "def fun(element):\n",
    "    return(element[1])\n",
    "\n",
    "lst = [(1,1),(1,3),(-3,2),(-5,-2),(-3,-3),(5,-4)]\n",
    "lst.sort(key = fun)\n",
    "print(lst)"
   ]
  },
  {
   "cell_type": "code",
   "execution_count": 123,
   "id": "7dc89277",
   "metadata": {},
   "outputs": [
    {
     "name": "stdout",
     "output_type": "stream",
     "text": [
      "[(1, 3), (-3, 2), (1, 1), (-5, -2), (-3, -3), (5, -4)]\n"
     ]
    }
   ],
   "source": [
    "lst = [(1,1),(1,3),(-3,2),(-5,-2),(-3,-3),(5,-4)]\n",
    "lst.sort(key = lambda x : x[1], reverse = True)\n",
    "print(lst)"
   ]
  },
  {
   "cell_type": "code",
   "execution_count": 124,
   "id": "f6cec805",
   "metadata": {},
   "outputs": [
    {
     "name": "stdout",
     "output_type": "stream",
     "text": [
      "[(1, 3), (-3, 2), (1, 1), (-5, -2), (-3, -3), (5, -4)]\n"
     ]
    }
   ],
   "source": [
    "def fun(element):\n",
    "    return(element[1])\n",
    "\n",
    "lst = [(1,1),(1,3),(-3,2),(-5,-2),(-3,-3),(5,-4)]\n",
    "lst.sort(key = fun, reverse = True)\n",
    "print(lst)"
   ]
  },
  {
   "cell_type": "markdown",
   "id": "93b6dbe4",
   "metadata": {},
   "source": [
    "# Find the co-ordinate which is closest to the origin"
   ]
  },
  {
   "cell_type": "code",
   "execution_count": 125,
   "id": "3d479e49",
   "metadata": {},
   "outputs": [
    {
     "name": "stdout",
     "output_type": "stream",
     "text": [
      "(1, 1)\n"
     ]
    }
   ],
   "source": [
    "lst = [(1,1),(1,3),(-3,2),(-5,-2),(-3,-3),(5,-4)]\n",
    "dist = []\n",
    "for element in lst:\n",
    "    d = (element[0]**2 + element[1]**2)**(1/2)\n",
    "    dist.append((d, element))\n",
    "dist.sort()\n",
    "print(dist[0][1])\n",
    "    "
   ]
  },
  {
   "cell_type": "markdown",
   "id": "27f3daf9",
   "metadata": {},
   "source": [
    "# Find the point which is closest to the point(2,3)"
   ]
  },
  {
   "cell_type": "code",
   "execution_count": 3,
   "id": "5a8096f2",
   "metadata": {},
   "outputs": [
    {
     "name": "stdout",
     "output_type": "stream",
     "text": [
      "(1, 3)\n"
     ]
    }
   ],
   "source": [
    "lst = [(1,1),(1,3),(-3,2),(-5,-2),(-3,-2),(5,-4)]\n",
    "dist = []\n",
    "for element in lst:\n",
    "    d = ((element[0]-2)**2 + (element[1]-3)**2)**(1/2)\n",
    "    dist.append((d, element))\n",
    "dist.sort()\n",
    "print(dist[0][1])\n",
    "    "
   ]
  },
  {
   "cell_type": "markdown",
   "id": "55bbb863",
   "metadata": {},
   "source": [
    "# find the point closest to x-axis"
   ]
  },
  {
   "cell_type": "code",
   "execution_count": 8,
   "id": "04285dae",
   "metadata": {},
   "outputs": [
    {
     "name": "stdout",
     "output_type": "stream",
     "text": [
      "[(1, (-2, 1)), (2, (-4, -2)), (2, (3, 2)), (2, (4, 2)), (3, (1, 3)), (3, (2, -3)), (4, (-3, -4))]\n"
     ]
    }
   ],
   "source": [
    "lst = [(1,3),(2,-3),(3,2),(4,2),(-2,1),(-3,-4),(-4,-2)]\n",
    "dist=[]\n",
    "for element in lst:\n",
    "    if(element[1]>=0):\n",
    "        dist.append((element[1],element))\n",
    "    else:\n",
    "        dist.append((-element[1],element))\n",
    "dist.sort()\n",
    "print(dist)"
   ]
  },
  {
   "cell_type": "code",
   "execution_count": 7,
   "id": "ee2639a6",
   "metadata": {},
   "outputs": [
    {
     "name": "stdout",
     "output_type": "stream",
     "text": [
      "(-2, 1)\n"
     ]
    }
   ],
   "source": [
    "lst = [(1,3),(2,-3),(3,2),(4,2),(-2,1),(-3,-4),(-4,-2)]\n",
    "dist=[]\n",
    "for element in lst:\n",
    "    if(element[1]>=0):\n",
    "        dist.append((element[1],element))\n",
    "    else:\n",
    "        dist.append((-element[1],element))\n",
    "dist.sort()\n",
    "print(dist[0][1])"
   ]
  },
  {
   "cell_type": "markdown",
   "id": "0e2f679c",
   "metadata": {},
   "source": [
    "# find the closest point to Y-axis"
   ]
  },
  {
   "cell_type": "code",
   "execution_count": 9,
   "id": "d73bd5e4",
   "metadata": {},
   "outputs": [
    {
     "name": "stdout",
     "output_type": "stream",
     "text": [
      "(1, 3)\n"
     ]
    }
   ],
   "source": [
    "lst = [(1,3),(2,-3),(3,2),(4,2),(-2,1),(-3,-4),(-4,-2)]\n",
    "dist=[]\n",
    "for element in lst:\n",
    "    if(element[0]>=0):\n",
    "        dist.append((element[0],element))\n",
    "    else:\n",
    "        dist.append((-element[0],element))\n",
    "dist.sort()\n",
    "print(dist[0][1])"
   ]
  },
  {
   "cell_type": "markdown",
   "id": "9f1c9b6b",
   "metadata": {},
   "source": [
    "# find the point closest to the line parallel to x-axis passing passing through the point (2,3)"
   ]
  },
  {
   "cell_type": "code",
   "execution_count": 11,
   "id": "91e59449",
   "metadata": {},
   "outputs": [
    {
     "name": "stdout",
     "output_type": "stream",
     "text": [
      "(1, 4)\n"
     ]
    }
   ],
   "source": [
    "lst = [(1,4),(-3,5),(-2,1),(-4,-3),(4,-2)]\n",
    "dist=[]\n",
    "for element in lst:\n",
    "    if(element[1]>=3):\n",
    "        dist.append((element[1]-3,element))\n",
    "    else:\n",
    "        dist.append((3-element[1],element))\n",
    "dist.sort()\n",
    "print(dist[0][1])"
   ]
  },
  {
   "cell_type": "markdown",
   "id": "1b62ae74",
   "metadata": {},
   "source": [
    "# Find the point closest to the line parallel to y-axis passing through the point (2,3)"
   ]
  },
  {
   "cell_type": "code",
   "execution_count": null,
   "id": "fd3c5079",
   "metadata": {},
   "outputs": [],
   "source": [
    "#homework"
   ]
  },
  {
   "cell_type": "markdown",
   "id": "0a22f05d",
   "metadata": {},
   "source": [
    "# Set "
   ]
  },
  {
   "cell_type": "code",
   "execution_count": 18,
   "id": "a2346823",
   "metadata": {},
   "outputs": [
    {
     "name": "stdout",
     "output_type": "stream",
     "text": [
      "{1, 2, 3, 4, 5}\n"
     ]
    }
   ],
   "source": [
    "myset={1,2,3,4,5}\n",
    "print(myset)"
   ]
  },
  {
   "cell_type": "code",
   "execution_count": 19,
   "id": "58dd24b9",
   "metadata": {},
   "outputs": [
    {
     "name": "stdout",
     "output_type": "stream",
     "text": [
      "{1, 2, 3, 4, 5, 6}\n"
     ]
    }
   ],
   "source": [
    "myset.add(6)\n",
    "print(myset)"
   ]
  },
  {
   "cell_type": "code",
   "execution_count": 20,
   "id": "a846efd3",
   "metadata": {},
   "outputs": [
    {
     "name": "stdout",
     "output_type": "stream",
     "text": [
      "{1, 2, 4, 5, 6}\n"
     ]
    }
   ],
   "source": [
    "myset.remove(3)\n",
    "print(myset)"
   ]
  },
  {
   "cell_type": "code",
   "execution_count": 23,
   "id": "f9fad541",
   "metadata": {},
   "outputs": [
    {
     "ename": "AttributeError",
     "evalue": "'dict' object has no attribute 'add'",
     "output_type": "error",
     "traceback": [
      "\u001b[1;31m---------------------------------------------------------------------------\u001b[0m",
      "\u001b[1;31mAttributeError\u001b[0m                            Traceback (most recent call last)",
      "Input \u001b[1;32mIn [23]\u001b[0m, in \u001b[0;36m<cell line: 2>\u001b[1;34m()\u001b[0m\n\u001b[0;32m      1\u001b[0m myset\u001b[38;5;241m=\u001b[39m{}\n\u001b[1;32m----> 2\u001b[0m \u001b[43mmyset\u001b[49m\u001b[38;5;241;43m.\u001b[39;49m\u001b[43madd\u001b[49m(\u001b[38;5;241m7\u001b[39m)\n\u001b[0;32m      3\u001b[0m \u001b[38;5;28mprint\u001b[39m(myset)\n",
      "\u001b[1;31mAttributeError\u001b[0m: 'dict' object has no attribute 'add'"
     ]
    }
   ],
   "source": [
    "myset={}\n",
    "myset.add(7)\n",
    "print(myset) #bcz empty set is void or  null"
   ]
  },
  {
   "cell_type": "code",
   "execution_count": 25,
   "id": "16eb0547",
   "metadata": {},
   "outputs": [
    {
     "name": "stdout",
     "output_type": "stream",
     "text": [
      "{7}\n"
     ]
    }
   ],
   "source": [
    "myset=set()\n",
    "myset.add(7)\n",
    "print(myset) "
   ]
  },
  {
   "cell_type": "code",
   "execution_count": 28,
   "id": "b8b728f5",
   "metadata": {},
   "outputs": [
    {
     "name": "stdout",
     "output_type": "stream",
     "text": [
      "{1, 2, 3, 4, 5, 6, 7, 8, 9}\n"
     ]
    }
   ],
   "source": [
    "myset={1,2,3,4,5}\n",
    "myset.update([6,7,8,9])   #list\n",
    "print(myset)\n"
   ]
  },
  {
   "cell_type": "code",
   "execution_count": 29,
   "id": "cea39133",
   "metadata": {},
   "outputs": [
    {
     "name": "stdout",
     "output_type": "stream",
     "text": [
      "{1, 2, 3, 4, 5, 6, 7, 8, 9}\n"
     ]
    }
   ],
   "source": [
    "myset={1,2,3,4,5}\n",
    "myset.update((6,7,8,9))   #tuple\n",
    "print(myset)"
   ]
  },
  {
   "cell_type": "code",
   "execution_count": 30,
   "id": "0d4b9036",
   "metadata": {},
   "outputs": [
    {
     "name": "stdout",
     "output_type": "stream",
     "text": [
      "{1, 2, 3, 4, 5, 6, 7, 8, 9}\n"
     ]
    }
   ],
   "source": [
    "myset={1,2,3,4,5}\n",
    "myset.update({6,7,8,9})   #Set\n",
    "print(myset)"
   ]
  },
  {
   "cell_type": "code",
   "execution_count": 31,
   "id": "37a9e27b",
   "metadata": {},
   "outputs": [
    {
     "data": {
      "text/plain": [
       "set"
      ]
     },
     "execution_count": 31,
     "metadata": {},
     "output_type": "execute_result"
    }
   ],
   "source": [
    "type(myset)"
   ]
  },
  {
   "cell_type": "code",
   "execution_count": 32,
   "id": "790fc8bd",
   "metadata": {},
   "outputs": [
    {
     "name": "stdout",
     "output_type": "stream",
     "text": [
      "<class 'set'>\n"
     ]
    }
   ],
   "source": [
    "print(type(myset))"
   ]
  },
  {
   "cell_type": "code",
   "execution_count": 33,
   "id": "84897d43",
   "metadata": {},
   "outputs": [
    {
     "name": "stdout",
     "output_type": "stream",
     "text": [
      "{1, 2, 4, 5}\n"
     ]
    }
   ],
   "source": [
    "myset={1,2,3,4,5}\n",
    "myset.discard(3)\n",
    "myset.discard(3)\n",
    "print(myset)"
   ]
  },
  {
   "cell_type": "code",
   "execution_count": 34,
   "id": "01fe3521",
   "metadata": {},
   "outputs": [
    {
     "data": {
      "text/plain": [
       "1"
      ]
     },
     "execution_count": 34,
     "metadata": {},
     "output_type": "execute_result"
    }
   ],
   "source": [
    "myset={1,2,3,4,5}\n",
    "myset.pop()"
   ]
  },
  {
   "cell_type": "code",
   "execution_count": 37,
   "id": "c185ce64",
   "metadata": {},
   "outputs": [
    {
     "ename": "TypeError",
     "evalue": "'set' object is not subscriptable",
     "output_type": "error",
     "traceback": [
      "\u001b[1;31m---------------------------------------------------------------------------\u001b[0m",
      "\u001b[1;31mTypeError\u001b[0m                                 Traceback (most recent call last)",
      "Input \u001b[1;32mIn [37]\u001b[0m, in \u001b[0;36m<cell line: 2>\u001b[1;34m()\u001b[0m\n\u001b[0;32m      1\u001b[0m myset\u001b[38;5;241m=\u001b[39m{\u001b[38;5;241m1\u001b[39m,\u001b[38;5;241m2\u001b[39m,\u001b[38;5;241m3\u001b[39m,\u001b[38;5;241m4\u001b[39m,\u001b[38;5;241m5\u001b[39m}\n\u001b[1;32m----> 2\u001b[0m \u001b[38;5;28mprint\u001b[39m(\u001b[43mmyset\u001b[49m\u001b[43m[\u001b[49m\u001b[38;5;241;43m0\u001b[39;49m\u001b[43m]\u001b[49m)\n",
      "\u001b[1;31mTypeError\u001b[0m: 'set' object is not subscriptable"
     ]
    }
   ],
   "source": [
    "myset={1,2,3,4,5}\n",
    "print(myset[0])"
   ]
  },
  {
   "cell_type": "code",
   "execution_count": 38,
   "id": "54dcc3f2",
   "metadata": {},
   "outputs": [
    {
     "name": "stdout",
     "output_type": "stream",
     "text": [
      "1\n",
      "2\n",
      "3\n",
      "4\n",
      "5\n"
     ]
    }
   ],
   "source": [
    "myset={1,2,3,4,5}\n",
    "for element in myset:\n",
    "    print(element)"
   ]
  },
  {
   "cell_type": "code",
   "execution_count": 40,
   "id": "ae0cf369",
   "metadata": {},
   "outputs": [
    {
     "ename": "TypeError",
     "evalue": "'set' object is not subscriptable",
     "output_type": "error",
     "traceback": [
      "\u001b[1;31m---------------------------------------------------------------------------\u001b[0m",
      "\u001b[1;31mTypeError\u001b[0m                                 Traceback (most recent call last)",
      "Input \u001b[1;32mIn [40]\u001b[0m, in \u001b[0;36m<cell line: 2>\u001b[1;34m()\u001b[0m\n\u001b[0;32m      1\u001b[0m myset\u001b[38;5;241m=\u001b[39m{\u001b[38;5;241m1\u001b[39m,\u001b[38;5;241m2\u001b[39m,\u001b[38;5;241m3\u001b[39m,\u001b[38;5;241m4\u001b[39m,\u001b[38;5;241m5\u001b[39m}\n\u001b[0;32m      2\u001b[0m \u001b[38;5;28;01mfor\u001b[39;00m i \u001b[38;5;129;01min\u001b[39;00m \u001b[38;5;28mrange\u001b[39m(\u001b[38;5;28mlen\u001b[39m(myset)):\n\u001b[1;32m----> 3\u001b[0m     \u001b[38;5;28mprint\u001b[39m(\u001b[43mmyset\u001b[49m\u001b[43m[\u001b[49m\u001b[43mi\u001b[49m\u001b[43m]\u001b[49m)\n",
      "\u001b[1;31mTypeError\u001b[0m: 'set' object is not subscriptable"
     ]
    }
   ],
   "source": [
    "myset={1,2,3,4,5}\n",
    "for i in range(len(myset)):\n",
    "    print(myset[i])"
   ]
  },
  {
   "cell_type": "markdown",
   "id": "bd4fc4ea",
   "metadata": {},
   "source": [
    "# Dictionary"
   ]
  },
  {
   "cell_type": "code",
   "execution_count": 41,
   "id": "b2213b33",
   "metadata": {},
   "outputs": [
    {
     "name": "stdout",
     "output_type": "stream",
     "text": [
      "{1: 'abc', 2: 'def', 3: 'ghi'}\n"
     ]
    }
   ],
   "source": [
    "dictX={1 : 'abc',2 : 'def',3 : 'ghi'}\n",
    "print(dictX)"
   ]
  },
  {
   "cell_type": "code",
   "execution_count": 42,
   "id": "6d162801",
   "metadata": {},
   "outputs": [
    {
     "data": {
      "text/plain": [
       "'def'"
      ]
     },
     "execution_count": 42,
     "metadata": {},
     "output_type": "execute_result"
    }
   ],
   "source": [
    "dictX[2]"
   ]
  },
  {
   "cell_type": "code",
   "execution_count": 43,
   "id": "4d25288c",
   "metadata": {},
   "outputs": [
    {
     "data": {
      "text/plain": [
       "dict_keys([1, 2, 3])"
      ]
     },
     "execution_count": 43,
     "metadata": {},
     "output_type": "execute_result"
    }
   ],
   "source": [
    "dictX.keys()"
   ]
  },
  {
   "cell_type": "code",
   "execution_count": 44,
   "id": "e4a60029",
   "metadata": {},
   "outputs": [
    {
     "data": {
      "text/plain": [
       "[1, 2, 3]"
      ]
     },
     "execution_count": 44,
     "metadata": {},
     "output_type": "execute_result"
    }
   ],
   "source": [
    "list(dictX)"
   ]
  },
  {
   "cell_type": "code",
   "execution_count": 52,
   "id": "3409399b",
   "metadata": {},
   "outputs": [
    {
     "data": {
      "text/plain": [
       "[1, 3]"
      ]
     },
     "execution_count": 52,
     "metadata": {},
     "output_type": "execute_result"
    }
   ],
   "source": [
    "list(dictX.keys())"
   ]
  },
  {
   "cell_type": "code",
   "execution_count": 55,
   "id": "3e3f876e",
   "metadata": {},
   "outputs": [
    {
     "data": {
      "text/plain": [
       "['abc', 'def', 'ghi', 'xyz']"
      ]
     },
     "execution_count": 55,
     "metadata": {},
     "output_type": "execute_result"
    }
   ],
   "source": [
    "list(dictX.values())"
   ]
  },
  {
   "cell_type": "code",
   "execution_count": 47,
   "id": "70bb9f2e",
   "metadata": {},
   "outputs": [
    {
     "data": {
      "text/plain": [
       "dict_values(['abc', 'def', 'ghi'])"
      ]
     },
     "execution_count": 47,
     "metadata": {},
     "output_type": "execute_result"
    }
   ],
   "source": [
    "dictX.values()"
   ]
  },
  {
   "cell_type": "code",
   "execution_count": 50,
   "id": "c9f40071",
   "metadata": {},
   "outputs": [
    {
     "name": "stdout",
     "output_type": "stream",
     "text": [
      "key: 1; value :abc\n",
      "key: 2; value :def\n",
      "key: 3; value :ghi\n"
     ]
    }
   ],
   "source": [
    "dictX={1 : 'abc',2 : 'def',3 : 'ghi'}\n",
    "for key in dictX:\n",
    "    print(f'key: {key}; value :{dictX[key]}')"
   ]
  },
  {
   "cell_type": "code",
   "execution_count": 51,
   "id": "6b2d75ea",
   "metadata": {},
   "outputs": [
    {
     "name": "stdout",
     "output_type": "stream",
     "text": [
      "{1: 'abc', 3: 'ghi'}\n"
     ]
    }
   ],
   "source": [
    "dictX={1 : 'abc',2 : 'def',3 : 'ghi'}\n",
    "dictX.pop(2)\n",
    "print(dictX)"
   ]
  },
  {
   "cell_type": "code",
   "execution_count": 54,
   "id": "affa10a9",
   "metadata": {},
   "outputs": [
    {
     "name": "stdout",
     "output_type": "stream",
     "text": [
      "{1: 'abc', 2: 'def', 3: 'ghi', 4: 'xyz'}\n"
     ]
    }
   ],
   "source": [
    "dictX={1 : 'abc',2 : 'def',3 : 'ghi'}\n",
    "dictX.update({4 : 'xyz'})\n",
    "print(dictX)"
   ]
  },
  {
   "cell_type": "markdown",
   "id": "c3cc285e",
   "metadata": {},
   "source": [
    "# typecasting"
   ]
  },
  {
   "cell_type": "code",
   "execution_count": 56,
   "id": "ca8624c5",
   "metadata": {},
   "outputs": [
    {
     "name": "stdout",
     "output_type": "stream",
     "text": [
      "(1, 2, 3, 4, 5)\n"
     ]
    }
   ],
   "source": [
    "lst=[1,2,3,4,5]\n",
    "mytuple=tuple(lst)\n",
    "print(mytuple)"
   ]
  },
  {
   "cell_type": "code",
   "execution_count": 57,
   "id": "3fc6758f",
   "metadata": {},
   "outputs": [
    {
     "name": "stdout",
     "output_type": "stream",
     "text": [
      "[1, 2, 3, 4, 5]\n"
     ]
    }
   ],
   "source": [
    "mytuple=[1,2,3,4,5]\n",
    "lst=list(mytuple)\n",
    "print(lst)"
   ]
  },
  {
   "cell_type": "code",
   "execution_count": 58,
   "id": "e96f2e88",
   "metadata": {},
   "outputs": [
    {
     "name": "stdout",
     "output_type": "stream",
     "text": [
      "[1, 2, 3, 4, 5]\n"
     ]
    }
   ],
   "source": [
    "myset={1,2,3,4,5}\n",
    "lst=list(myset)\n",
    "print(lst)"
   ]
  },
  {
   "cell_type": "code",
   "execution_count": 59,
   "id": "5e7588b1",
   "metadata": {},
   "outputs": [
    {
     "name": "stdout",
     "output_type": "stream",
     "text": [
      "<class 'tuple'>\n"
     ]
    }
   ],
   "source": [
    "myset={1,2,3,4,5}\n",
    "mytuple=tuple(myset)\n",
    "print(tuple)"
   ]
  }
 ],
 "metadata": {
  "kernelspec": {
   "display_name": "Python 3 (ipykernel)",
   "language": "python",
   "name": "python3"
  },
  "language_info": {
   "codemirror_mode": {
    "name": "ipython",
    "version": 3
   },
   "file_extension": ".py",
   "mimetype": "text/x-python",
   "name": "python",
   "nbconvert_exporter": "python",
   "pygments_lexer": "ipython3",
   "version": "3.9.12"
  }
 },
 "nbformat": 4,
 "nbformat_minor": 5
}
