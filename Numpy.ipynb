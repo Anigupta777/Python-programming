{
 "cells": [
  {
   "cell_type": "markdown",
   "id": "9b90bad0",
   "metadata": {},
   "source": [
    "# Numpy"
   ]
  },
  {
   "cell_type": "code",
   "execution_count": 1,
   "id": "8f305933",
   "metadata": {},
   "outputs": [
    {
     "data": {
      "text/plain": [
       "array([1, 2, 3, 4, 5])"
      ]
     },
     "execution_count": 1,
     "metadata": {},
     "output_type": "execute_result"
    }
   ],
   "source": [
    "lst=[1,2,3,4,5]\n",
    "import numpy\n",
    "numpy.array(lst)"
   ]
  },
  {
   "cell_type": "code",
   "execution_count": 2,
   "id": "95382da6",
   "metadata": {},
   "outputs": [
    {
     "data": {
      "text/plain": [
       "array([1, 2, 3, 4, 5])"
      ]
     },
     "execution_count": 2,
     "metadata": {},
     "output_type": "execute_result"
    }
   ],
   "source": [
    "lst=[1,2,3,4,5]\n",
    "import numpy as np\n",
    "np.array(lst)"
   ]
  },
  {
   "cell_type": "code",
   "execution_count": 3,
   "id": "b0263f27",
   "metadata": {},
   "outputs": [
    {
     "data": {
      "text/plain": [
       "numpy.ndarray"
      ]
     },
     "execution_count": 3,
     "metadata": {},
     "output_type": "execute_result"
    }
   ],
   "source": [
    "type(np.array(lst))"
   ]
  },
  {
   "cell_type": "code",
   "execution_count": 5,
   "id": "b3a869e7",
   "metadata": {},
   "outputs": [],
   "source": [
    "lst=[1,2,3,4,5]\n",
    "import numpy as np\n",
    "narray= np.array(lst)"
   ]
  },
  {
   "cell_type": "code",
   "execution_count": 6,
   "id": "821c085f",
   "metadata": {},
   "outputs": [
    {
     "name": "stdout",
     "output_type": "stream",
     "text": [
      "[1 2 3 4 5]\n"
     ]
    }
   ],
   "source": [
    "print(narray)"
   ]
  },
  {
   "cell_type": "code",
   "execution_count": 7,
   "id": "82430a85",
   "metadata": {},
   "outputs": [
    {
     "name": "stdout",
     "output_type": "stream",
     "text": [
      "<class 'numpy.ndarray'>\n"
     ]
    }
   ],
   "source": [
    "print(type(narray))"
   ]
  },
  {
   "cell_type": "code",
   "execution_count": 8,
   "id": "1c1b8e09",
   "metadata": {},
   "outputs": [
    {
     "data": {
      "text/plain": [
       "array(['anirudh', 'gupta', 'python', 'anaconda', 'cobra'], dtype='<U8')"
      ]
     },
     "execution_count": 8,
     "metadata": {},
     "output_type": "execute_result"
    }
   ],
   "source": [
    "lst=['anirudh','gupta','python','anaconda','cobra']\n",
    "numpy.array(lst)"
   ]
  },
  {
   "cell_type": "code",
   "execution_count": 10,
   "id": "e561449f",
   "metadata": {},
   "outputs": [
    {
     "name": "stdout",
     "output_type": "stream",
     "text": [
      "[[1, 2, 3], [4, 5, 6], [7, 8, 9]]\n",
      "\n",
      "[[1 2 3]\n",
      " [4 5 6]\n",
      " [7 8 9]]\n"
     ]
    }
   ],
   "source": [
    "lst1=[[1,2,3],[4,5,6],[7,8,9]]\n",
    "print(lst1)\n",
    "print()\n",
    "print(np.array(lst1))"
   ]
  },
  {
   "cell_type": "code",
   "execution_count": 11,
   "id": "56438514",
   "metadata": {},
   "outputs": [
    {
     "data": {
      "text/plain": [
       "array([0., 0., 0., 0.])"
      ]
     },
     "execution_count": 11,
     "metadata": {},
     "output_type": "execute_result"
    }
   ],
   "source": [
    "np.zeros(4)"
   ]
  },
  {
   "cell_type": "code",
   "execution_count": 12,
   "id": "618bb5b0",
   "metadata": {},
   "outputs": [
    {
     "data": {
      "text/plain": [
       "array([[0., 0., 0.],\n",
       "       [0., 0., 0.],\n",
       "       [0., 0., 0.]])"
      ]
     },
     "execution_count": 12,
     "metadata": {},
     "output_type": "execute_result"
    }
   ],
   "source": [
    "np.zeros((3,3))"
   ]
  },
  {
   "cell_type": "code",
   "execution_count": 13,
   "id": "b1d95a5f",
   "metadata": {},
   "outputs": [
    {
     "data": {
      "text/plain": [
       "array([[0., 0., 0., 0., 0., 0.],\n",
       "       [0., 0., 0., 0., 0., 0.]])"
      ]
     },
     "execution_count": 13,
     "metadata": {},
     "output_type": "execute_result"
    }
   ],
   "source": [
    "np.zeros((2,6))"
   ]
  },
  {
   "cell_type": "code",
   "execution_count": 14,
   "id": "0c33ee4f",
   "metadata": {},
   "outputs": [
    {
     "data": {
      "text/plain": [
       "array([[0., 0., 0., 0., 0., 0.],\n",
       "       [0., 0., 0., 0., 0., 0.]])"
      ]
     },
     "execution_count": 14,
     "metadata": {},
     "output_type": "execute_result"
    }
   ],
   "source": [
    "np.zeros([2,6])"
   ]
  },
  {
   "cell_type": "code",
   "execution_count": 15,
   "id": "be7fc527",
   "metadata": {},
   "outputs": [
    {
     "data": {
      "text/plain": [
       "array([1., 1., 1., 1.])"
      ]
     },
     "execution_count": 15,
     "metadata": {},
     "output_type": "execute_result"
    }
   ],
   "source": [
    "np.ones(4)"
   ]
  },
  {
   "cell_type": "code",
   "execution_count": 16,
   "id": "584e5680",
   "metadata": {},
   "outputs": [
    {
     "data": {
      "text/plain": [
       "array([[1., 1., 1.],\n",
       "       [1., 1., 1.],\n",
       "       [1., 1., 1.]])"
      ]
     },
     "execution_count": 16,
     "metadata": {},
     "output_type": "execute_result"
    }
   ],
   "source": [
    "np.ones((3,3))"
   ]
  },
  {
   "cell_type": "code",
   "execution_count": 17,
   "id": "e3e9be8c",
   "metadata": {},
   "outputs": [
    {
     "data": {
      "text/plain": [
       "array([[1., 1., 1., 1., 1., 1.],\n",
       "       [1., 1., 1., 1., 1., 1.]])"
      ]
     },
     "execution_count": 17,
     "metadata": {},
     "output_type": "execute_result"
    }
   ],
   "source": [
    "np.ones([2,6])"
   ]
  },
  {
   "cell_type": "code",
   "execution_count": 19,
   "id": "2c964321",
   "metadata": {},
   "outputs": [
    {
     "data": {
      "text/plain": [
       "array([0, 1, 2, 3, 4, 5, 6, 7, 8, 9])"
      ]
     },
     "execution_count": 19,
     "metadata": {},
     "output_type": "execute_result"
    }
   ],
   "source": [
    "np.arange(0,10)"
   ]
  },
  {
   "cell_type": "code",
   "execution_count": 20,
   "id": "77dc01af",
   "metadata": {},
   "outputs": [
    {
     "data": {
      "text/plain": [
       "[0, 1, 2, 3, 4, 5, 6, 7, 8, 9]"
      ]
     },
     "execution_count": 20,
     "metadata": {},
     "output_type": "execute_result"
    }
   ],
   "source": [
    "list(range(0,10))\n"
   ]
  },
  {
   "cell_type": "code",
   "execution_count": 21,
   "id": "a96bcc5b",
   "metadata": {},
   "outputs": [
    {
     "data": {
      "text/plain": [
       "array([-15, -14, -13, -12, -11, -10,  -9,  -8,  -7,  -6,  -5])"
      ]
     },
     "execution_count": 21,
     "metadata": {},
     "output_type": "execute_result"
    }
   ],
   "source": [
    "np.arange(-15,-4)"
   ]
  },
  {
   "cell_type": "code",
   "execution_count": 22,
   "id": "8c4cb22f",
   "metadata": {},
   "outputs": [
    {
     "data": {
      "text/plain": [
       "array([ 0.,  5., 10.])"
      ]
     },
     "execution_count": 22,
     "metadata": {},
     "output_type": "execute_result"
    }
   ],
   "source": [
    "np.linspace(0,10,3)"
   ]
  },
  {
   "cell_type": "code",
   "execution_count": 23,
   "id": "3d4b0116",
   "metadata": {},
   "outputs": [
    {
     "data": {
      "text/plain": [
       "array([ 0.,  2.,  4.,  6.,  8., 10.])"
      ]
     },
     "execution_count": 23,
     "metadata": {},
     "output_type": "execute_result"
    }
   ],
   "source": [
    "np.linspace(0,10,6)"
   ]
  },
  {
   "cell_type": "code",
   "execution_count": 25,
   "id": "c7a2e5d3",
   "metadata": {},
   "outputs": [
    {
     "data": {
      "text/plain": [
       "array([ 0.        ,  1.11111111,  2.22222222,  3.33333333,  4.44444444,\n",
       "        5.55555556,  6.66666667,  7.77777778,  8.88888889, 10.        ])"
      ]
     },
     "execution_count": 25,
     "metadata": {},
     "output_type": "execute_result"
    }
   ],
   "source": [
    "np.linspace(0,10,10)"
   ]
  },
  {
   "cell_type": "code",
   "execution_count": 26,
   "id": "0a5695e6",
   "metadata": {},
   "outputs": [
    {
     "data": {
      "text/plain": [
       "array([10., 15., 20., 25., 30.])"
      ]
     },
     "execution_count": 26,
     "metadata": {},
     "output_type": "execute_result"
    }
   ],
   "source": [
    "np.linspace(10,30,5)"
   ]
  },
  {
   "cell_type": "code",
   "execution_count": 27,
   "id": "80e00381",
   "metadata": {},
   "outputs": [
    {
     "data": {
      "text/plain": [
       "array([  0.        ,   1.01010101,   2.02020202,   3.03030303,\n",
       "         4.04040404,   5.05050505,   6.06060606,   7.07070707,\n",
       "         8.08080808,   9.09090909,  10.1010101 ,  11.11111111,\n",
       "        12.12121212,  13.13131313,  14.14141414,  15.15151515,\n",
       "        16.16161616,  17.17171717,  18.18181818,  19.19191919,\n",
       "        20.2020202 ,  21.21212121,  22.22222222,  23.23232323,\n",
       "        24.24242424,  25.25252525,  26.26262626,  27.27272727,\n",
       "        28.28282828,  29.29292929,  30.3030303 ,  31.31313131,\n",
       "        32.32323232,  33.33333333,  34.34343434,  35.35353535,\n",
       "        36.36363636,  37.37373737,  38.38383838,  39.39393939,\n",
       "        40.4040404 ,  41.41414141,  42.42424242,  43.43434343,\n",
       "        44.44444444,  45.45454545,  46.46464646,  47.47474747,\n",
       "        48.48484848,  49.49494949,  50.50505051,  51.51515152,\n",
       "        52.52525253,  53.53535354,  54.54545455,  55.55555556,\n",
       "        56.56565657,  57.57575758,  58.58585859,  59.5959596 ,\n",
       "        60.60606061,  61.61616162,  62.62626263,  63.63636364,\n",
       "        64.64646465,  65.65656566,  66.66666667,  67.67676768,\n",
       "        68.68686869,  69.6969697 ,  70.70707071,  71.71717172,\n",
       "        72.72727273,  73.73737374,  74.74747475,  75.75757576,\n",
       "        76.76767677,  77.77777778,  78.78787879,  79.7979798 ,\n",
       "        80.80808081,  81.81818182,  82.82828283,  83.83838384,\n",
       "        84.84848485,  85.85858586,  86.86868687,  87.87878788,\n",
       "        88.88888889,  89.8989899 ,  90.90909091,  91.91919192,\n",
       "        92.92929293,  93.93939394,  94.94949495,  95.95959596,\n",
       "        96.96969697,  97.97979798,  98.98989899, 100.        ])"
      ]
     },
     "execution_count": 27,
     "metadata": {},
     "output_type": "execute_result"
    }
   ],
   "source": [
    "np.linspace(0,100,100)"
   ]
  },
  {
   "cell_type": "code",
   "execution_count": 31,
   "id": "bcf6ed4c",
   "metadata": {},
   "outputs": [
    {
     "data": {
      "text/plain": [
       "array([-10. ,  -7.5,  -5. ])"
      ]
     },
     "execution_count": 31,
     "metadata": {},
     "output_type": "execute_result"
    }
   ],
   "source": [
    "np.linspace(-10,-5,3)"
   ]
  },
  {
   "cell_type": "code",
   "execution_count": 32,
   "id": "f0f30441",
   "metadata": {},
   "outputs": [
    {
     "data": {
      "text/plain": [
       "array([[1., 0., 0., 0.],\n",
       "       [0., 1., 0., 0.],\n",
       "       [0., 0., 1., 0.],\n",
       "       [0., 0., 0., 1.]])"
      ]
     },
     "execution_count": 32,
     "metadata": {},
     "output_type": "execute_result"
    }
   ],
   "source": [
    "np.eye(4)"
   ]
  },
  {
   "cell_type": "code",
   "execution_count": 33,
   "id": "e8a16522",
   "metadata": {},
   "outputs": [
    {
     "data": {
      "text/plain": [
       "array([[1., 0., 0., 0., 0., 0.],\n",
       "       [0., 1., 0., 0., 0., 0.]])"
      ]
     },
     "execution_count": 33,
     "metadata": {},
     "output_type": "execute_result"
    }
   ],
   "source": [
    "np.eye(2,6)"
   ]
  },
  {
   "cell_type": "code",
   "execution_count": 34,
   "id": "50558617",
   "metadata": {},
   "outputs": [
    {
     "data": {
      "text/plain": [
       "array([[1., 0., 0., 0., 0.],\n",
       "       [0., 1., 0., 0., 0.],\n",
       "       [0., 0., 1., 0., 0.],\n",
       "       [0., 0., 0., 1., 0.]])"
      ]
     },
     "execution_count": 34,
     "metadata": {},
     "output_type": "execute_result"
    }
   ],
   "source": [
    "np.eye(4,5)"
   ]
  },
  {
   "cell_type": "code",
   "execution_count": 35,
   "id": "f6faceca",
   "metadata": {},
   "outputs": [
    {
     "data": {
      "text/plain": [
       "array([0.56244986, 0.03064391])"
      ]
     },
     "execution_count": 35,
     "metadata": {},
     "output_type": "execute_result"
    }
   ],
   "source": [
    "np.random.rand(2)"
   ]
  },
  {
   "cell_type": "code",
   "execution_count": 36,
   "id": "b34d9cb6",
   "metadata": {},
   "outputs": [
    {
     "data": {
      "text/plain": [
       "array([0.76707303, 0.5737848 , 0.40472259, 0.99352481, 0.25250294])"
      ]
     },
     "execution_count": 36,
     "metadata": {},
     "output_type": "execute_result"
    }
   ],
   "source": [
    "np.random.rand(5)"
   ]
  },
  {
   "cell_type": "code",
   "execution_count": 40,
   "id": "8e4b1815",
   "metadata": {},
   "outputs": [
    {
     "data": {
      "text/plain": [
       "1"
      ]
     },
     "execution_count": 40,
     "metadata": {},
     "output_type": "execute_result"
    }
   ],
   "source": [
    "np.random.randint(3)"
   ]
  },
  {
   "cell_type": "code",
   "execution_count": 41,
   "id": "37e6c774",
   "metadata": {},
   "outputs": [
    {
     "data": {
      "text/plain": [
       "0"
      ]
     },
     "execution_count": 41,
     "metadata": {},
     "output_type": "execute_result"
    }
   ],
   "source": [
    "np.random.randint(2)"
   ]
  },
  {
   "cell_type": "code",
   "execution_count": 48,
   "id": "7d96a91e",
   "metadata": {},
   "outputs": [
    {
     "data": {
      "text/plain": [
       "3"
      ]
     },
     "execution_count": 48,
     "metadata": {},
     "output_type": "execute_result"
    }
   ],
   "source": [
    "np.random.randint(4)\n"
   ]
  },
  {
   "cell_type": "markdown",
   "id": "91e502f3",
   "metadata": {},
   "source": [
    "# Create Rock-Paper_Scissor game"
   ]
  },
  {
   "cell_type": "code",
   "execution_count": null,
   "id": "f7db471a",
   "metadata": {},
   "outputs": [],
   "source": [
    "#use np.random.randit(3)\n",
    "#Homework"
   ]
  },
  {
   "cell_type": "code",
   "execution_count": 49,
   "id": "d3207302",
   "metadata": {},
   "outputs": [
    {
     "data": {
      "text/plain": [
       "66"
      ]
     },
     "execution_count": 49,
     "metadata": {},
     "output_type": "execute_result"
    }
   ],
   "source": [
    "np.random.randint(1,100) #100 is exclusive"
   ]
  },
  {
   "cell_type": "code",
   "execution_count": 50,
   "id": "ae71cdb6",
   "metadata": {},
   "outputs": [
    {
     "data": {
      "text/plain": [
       "array([84, 27, 26, 88, 34])"
      ]
     },
     "execution_count": 50,
     "metadata": {},
     "output_type": "execute_result"
    }
   ],
   "source": [
    "np.random.randint(1,100,5)"
   ]
  },
  {
   "cell_type": "code",
   "execution_count": 51,
   "id": "bdb4c802",
   "metadata": {},
   "outputs": [
    {
     "data": {
      "text/plain": [
       "array([-0.35250296,  1.91427788, -0.65796676,  0.44167654, -0.47778801,\n",
       "        0.18222992,  0.36218003,  0.44693344,  1.49224609, -0.08105257])"
      ]
     },
     "execution_count": 51,
     "metadata": {},
     "output_type": "execute_result"
    }
   ],
   "source": [
    "np.random.randn(10)"
   ]
  },
  {
   "cell_type": "code",
   "execution_count": 52,
   "id": "0cdcf765",
   "metadata": {},
   "outputs": [
    {
     "data": {
      "text/plain": [
       "array([[-0.37604728, -0.33652535, -1.41375091, -0.34730249, -1.04733849,\n",
       "        -0.56840868,  0.80595534,  0.26510243, -0.99833856, -0.582461  ],\n",
       "       [ 0.61903141,  0.46145329,  0.74700527, -1.01309733, -0.67612061,\n",
       "         0.28446802,  0.12629297, -0.57710459, -0.18356019,  0.09571452],\n",
       "       [-0.35964771, -1.73366907,  0.43070235,  0.99565188,  0.81422358,\n",
       "        -1.29036592,  0.29699529, -1.62138325,  1.27641169, -0.07805129],\n",
       "       [-0.06165193,  0.886046  ,  0.2754793 , -0.8906992 , -1.07271699,\n",
       "        -1.76115749, -0.13294562,  0.19881074,  0.46842614, -1.9753148 ],\n",
       "       [ 0.65358175,  0.46927562, -1.01492519,  0.2161475 , -0.33594962,\n",
       "         0.03157179, -0.3433726 ,  0.16974589,  1.93320047,  0.88489263],\n",
       "       [ 0.02259937, -2.8831699 ,  0.82103981, -0.23821289, -2.02868901,\n",
       "         0.64067136, -2.26845983,  0.23992163, -1.07751796,  1.37150715],\n",
       "       [-0.19828696, -0.22436099, -0.46611086, -0.10814355, -0.48229397,\n",
       "        -1.2459451 ,  0.93431926, -0.26990353, -0.26608167,  0.37732   ],\n",
       "       [-1.88408613, -0.13651378, -1.3163764 ,  0.18949862,  1.10233712,\n",
       "         1.64308228, -0.02218464, -1.43160116,  0.08602898,  0.60491561],\n",
       "       [ 0.80799191, -0.78158952,  1.18228119,  1.03611707,  0.26046356,\n",
       "         0.03668895, -1.66448782, -0.81398935, -0.82704997,  1.09256927],\n",
       "       [ 1.40763887,  0.92156066,  0.7549421 ,  0.49608826, -0.13863365,\n",
       "        -1.43324266, -0.54464723,  0.48494669,  0.72776102,  0.66434884]])"
      ]
     },
     "execution_count": 52,
     "metadata": {},
     "output_type": "execute_result"
    }
   ],
   "source": [
    "np.random.randn(10,10)"
   ]
  },
  {
   "cell_type": "code",
   "execution_count": 53,
   "id": "9beb7b7e",
   "metadata": {},
   "outputs": [
    {
     "name": "stdout",
     "output_type": "stream",
     "text": [
      "[0 1 2 3 4 5 6 7 8 9]\n",
      "(10,)\n"
     ]
    }
   ],
   "source": [
    "narray=np.arange(0,10)\n",
    "print(narray)\n",
    "print(narray.shape)"
   ]
  },
  {
   "cell_type": "code",
   "execution_count": 54,
   "id": "cf35ca5f",
   "metadata": {},
   "outputs": [
    {
     "name": "stdout",
     "output_type": "stream",
     "text": [
      "[0 1 2 3 4 5 6 7 8 9]\n",
      "[[0 1 2 3 4]\n",
      " [5 6 7 8 9]]\n"
     ]
    }
   ],
   "source": [
    "narray=np.arange(0,10)\n",
    "print(narray)\n",
    "narray=narray.reshape(2,5)\n",
    "print(narray)"
   ]
  },
  {
   "cell_type": "code",
   "execution_count": 55,
   "id": "15e75bcd",
   "metadata": {},
   "outputs": [
    {
     "name": "stdout",
     "output_type": "stream",
     "text": [
      "[0 1 2 3 4 5 6 7 8 9]\n"
     ]
    },
    {
     "ename": "ValueError",
     "evalue": "cannot reshape array of size 10 into shape (3,3)",
     "output_type": "error",
     "traceback": [
      "\u001b[1;31m---------------------------------------------------------------------------\u001b[0m",
      "\u001b[1;31mValueError\u001b[0m                                Traceback (most recent call last)",
      "Input \u001b[1;32mIn [55]\u001b[0m, in \u001b[0;36m<cell line: 3>\u001b[1;34m()\u001b[0m\n\u001b[0;32m      1\u001b[0m narray\u001b[38;5;241m=\u001b[39mnp\u001b[38;5;241m.\u001b[39marange(\u001b[38;5;241m0\u001b[39m,\u001b[38;5;241m10\u001b[39m)\n\u001b[0;32m      2\u001b[0m \u001b[38;5;28mprint\u001b[39m(narray)\n\u001b[1;32m----> 3\u001b[0m narray\u001b[38;5;241m=\u001b[39m\u001b[43mnarray\u001b[49m\u001b[38;5;241;43m.\u001b[39;49m\u001b[43mreshape\u001b[49m\u001b[43m(\u001b[49m\u001b[38;5;241;43m3\u001b[39;49m\u001b[43m,\u001b[49m\u001b[38;5;241;43m3\u001b[39;49m\u001b[43m)\u001b[49m\n\u001b[0;32m      4\u001b[0m \u001b[38;5;28mprint\u001b[39m(narray)\n",
      "\u001b[1;31mValueError\u001b[0m: cannot reshape array of size 10 into shape (3,3)"
     ]
    }
   ],
   "source": [
    "narray=np.arange(0,10)\n",
    "print(narray)\n",
    "narray=narray.reshape(3,3)\n",
    "print(narray)"
   ]
  },
  {
   "cell_type": "code",
   "execution_count": 57,
   "id": "d03ef3df",
   "metadata": {},
   "outputs": [
    {
     "name": "stdout",
     "output_type": "stream",
     "text": [
      "[ 0  1  2  3  4  5  6  7  8  9 10 11 12 13 14 15 16 17 18 19 20 21 22 23\n",
      " 24 25 26 27 28 29 30 31 32 33 34 35 36 37 38 39 40 41 42 43 44 45 46 47\n",
      " 48 49 50 51 52 53 54 55 56 57 58 59 60 61 62 63 64 65 66 67 68 69 70 71\n",
      " 72 73 74 75 76 77 78 79 80 81 82 83 84 85 86 87 88 89 90 91 92 93 94 95\n",
      " 96 97 98 99]\n"
     ]
    }
   ],
   "source": [
    "narray=np.arange(0,100)\n",
    "print(narray)"
   ]
  },
  {
   "cell_type": "code",
   "execution_count": 58,
   "id": "b9096451",
   "metadata": {},
   "outputs": [
    {
     "name": "stdout",
     "output_type": "stream",
     "text": [
      "(100, 1)\n"
     ]
    }
   ],
   "source": [
    "print(narray.reshape(100,1).shape)"
   ]
  },
  {
   "cell_type": "code",
   "execution_count": 59,
   "id": "db002ee2",
   "metadata": {},
   "outputs": [
    {
     "name": "stdout",
     "output_type": "stream",
     "text": [
      "[ 0  1  2  3  4  5  6  7  8  9 10 11 12 13 14 15 16 17 18 19 20 21 22 23\n",
      " 24 25 26 27 28 29 30 31 32 33 34 35 36 37 38 39 40 41 42 43 44 45 46 47\n",
      " 48 49 50 51 52 53 54 55 56 57 58 59 60 61 62 63 64 65 66 67 68 69 70 71\n",
      " 72 73 74 75 76 77 78 79 80 81 82 83 84 85 86 87 88 89 90 91 92 93 94 95\n",
      " 96 97 98 99]\n",
      "(100,)\n",
      "(100, 1)\n"
     ]
    }
   ],
   "source": [
    "narray=np.arange(0,100)\n",
    "print(narray)\n",
    "print(narray.shape)\n",
    "print(narray.reshape(100,1).shape)"
   ]
  },
  {
   "cell_type": "code",
   "execution_count": 60,
   "id": "0931df10",
   "metadata": {},
   "outputs": [
    {
     "name": "stdout",
     "output_type": "stream",
     "text": [
      "[0 1 2 3 4 5 6 7 8 9]\n",
      "\n",
      "(10,)\n",
      "\n",
      "[[0]\n",
      " [1]\n",
      " [2]\n",
      " [3]\n",
      " [4]\n",
      " [5]\n",
      " [6]\n",
      " [7]\n",
      " [8]\n",
      " [9]]\n",
      "\n",
      "(10, 1)\n",
      "\n",
      "[[0 1 2 3 4]\n",
      " [5 6 7 8 9]]\n",
      "\n",
      "(2, 5)\n",
      "\n",
      "[[0 1]\n",
      " [2 3]\n",
      " [4 5]\n",
      " [6 7]\n",
      " [8 9]]\n",
      "\n",
      "(5, 2)\n"
     ]
    }
   ],
   "source": [
    "narray=np.arange(0,10)\n",
    "print(narray)\n",
    "print()\n",
    "print(narray.shape)\n",
    "print()\n",
    "print(narray.reshape(10,1))\n",
    "print()\n",
    "print(narray.reshape(10,1).shape)\n",
    "print()\n",
    "print(narray.reshape(2,5))\n",
    "print()\n",
    "print(narray.reshape(2,5).shape)\n",
    "print()\n",
    "print(narray.reshape(5,2))\n",
    "print()\n",
    "print(narray.reshape(5,2).shape)"
   ]
  },
  {
   "cell_type": "code",
   "execution_count": 61,
   "id": "6cec7cb8",
   "metadata": {},
   "outputs": [
    {
     "name": "stdout",
     "output_type": "stream",
     "text": [
      "[0 1 2 3 4 5 6 7 8 9]\n",
      "\n",
      "[[0 1]\n",
      " [2 3]\n",
      " [4 5]\n",
      " [6 7]\n",
      " [8 9]]\n"
     ]
    }
   ],
   "source": [
    "narray=np.arange(0,10)\n",
    "print(narray)\n",
    "print()\n",
    "print(narray.reshape(2,5).reshape(5,2))"
   ]
  },
  {
   "cell_type": "code",
   "execution_count": 62,
   "id": "da4deec8",
   "metadata": {},
   "outputs": [
    {
     "name": "stdout",
     "output_type": "stream",
     "text": [
      "[ 0  1  2  3  4  5  6  7  8  9 10 11 12 13 14 15 16 17 18 19 20 21 22 23\n",
      " 24 25 26 27 28 29 30 31 32 33 34 35 36 37 38 39 40 41 42 43 44 45 46 47\n",
      " 48 49 50 51 52 53 54 55 56 57 58 59 60 61 62 63 64 65 66 67 68 69 70 71\n",
      " 72 73 74 75 76 77 78 79 80 81 82 83 84 85 86 87 88 89 90 91 92 93 94 95\n",
      " 96 97 98 99]\n",
      "\n",
      "[[ 0  1  2  3  4  5  6  7  8  9]\n",
      " [10 11 12 13 14 15 16 17 18 19]\n",
      " [20 21 22 23 24 25 26 27 28 29]\n",
      " [30 31 32 33 34 35 36 37 38 39]\n",
      " [40 41 42 43 44 45 46 47 48 49]\n",
      " [50 51 52 53 54 55 56 57 58 59]\n",
      " [60 61 62 63 64 65 66 67 68 69]\n",
      " [70 71 72 73 74 75 76 77 78 79]\n",
      " [80 81 82 83 84 85 86 87 88 89]\n",
      " [90 91 92 93 94 95 96 97 98 99]]\n"
     ]
    }
   ],
   "source": [
    "narray=np.arange(0,100 )\n",
    "print(narray)\n",
    "print()\n",
    "narray=narray.reshape(10,10)\n",
    "print(narray)"
   ]
  },
  {
   "cell_type": "code",
   "execution_count": 75,
   "id": "1eb4e319",
   "metadata": {},
   "outputs": [
    {
     "data": {
      "text/plain": [
       "array([0, 1, 2, 3, 4, 5, 6, 7, 8, 9])"
      ]
     },
     "execution_count": 75,
     "metadata": {},
     "output_type": "execute_result"
    }
   ],
   "source": [
    "narray[0]"
   ]
  },
  {
   "cell_type": "code",
   "execution_count": 76,
   "id": "7d2d9bd1",
   "metadata": {},
   "outputs": [
    {
     "name": "stdout",
     "output_type": "stream",
     "text": [
      "[[ 0  1  2  3  4  5  6  7  8  9]\n",
      " [10 11 12 13 14 15 16 17 18 19]\n",
      " [20 21 22 23 24 25 26 27 28 29]\n",
      " [30 31 32 33 34 35 36 37 38 39]\n",
      " [40 41 42 43 44 45 46 47 48 49]\n",
      " [50 51 52 53 54 55 56 57 58 59]\n",
      " [60 61 62 63 64 65 66 67 68 69]\n",
      " [70 71 72 73 74 75 76 77 78 79]\n",
      " [80 81 82 83 84 85 86 87 88 89]\n",
      " [90 91 92 93 94 95 96 97 98 99]]\n",
      "\n",
      "[42 43 44 45 46]\n"
     ]
    }
   ],
   "source": [
    "narray=np.arange(0,100).reshape(10,10)\n",
    "print(narray)\n",
    "print()\n",
    "print(narray[4,2:7])"
   ]
  },
  {
   "cell_type": "code",
   "execution_count": 77,
   "id": "3939715f",
   "metadata": {},
   "outputs": [
    {
     "name": "stdout",
     "output_type": "stream",
     "text": [
      "[[ 0  1  2  3  4  5  6  7  8  9]\n",
      " [10 11 12 13 14 15 16 17 18 19]\n",
      " [20 21 22 23 24 25 26 27 28 29]\n",
      " [30 31 32 33 34 35 36 37 38 39]\n",
      " [40 41 42 43 44 45 46 47 48 49]\n",
      " [50 51 52 53 54 55 56 57 58 59]\n",
      " [60 61 62 63 64 65 66 67 68 69]\n",
      " [70 71 72 73 74 75 76 77 78 79]\n",
      " [80 81 82 83 84 85 86 87 88 89]\n",
      " [90 91 92 93 94 95 96 97 98 99]]\n",
      "\n",
      "[42 43 44 45 46]\n",
      "\n",
      "[[64 65 66 67 68]\n",
      " [74 75 76 77 78]\n",
      " [84 85 86 87 88]]\n"
     ]
    }
   ],
   "source": [
    "narray=np.arange(0,100).reshape(10,10)\n",
    "print(narray)\n",
    "print()\n",
    "print(narray[4,2:7])   \n",
    "print()\n",
    "print(narray[6:9,4:9])"
   ]
  },
  {
   "cell_type": "code",
   "execution_count": 78,
   "id": "e871e8c8",
   "metadata": {},
   "outputs": [
    {
     "data": {
      "text/plain": [
       "55"
      ]
     },
     "execution_count": 78,
     "metadata": {},
     "output_type": "execute_result"
    }
   ],
   "source": [
    "narray[5,5]"
   ]
  },
  {
   "cell_type": "code",
   "execution_count": 79,
   "id": "01642d8e",
   "metadata": {},
   "outputs": [
    {
     "data": {
      "text/plain": [
       "55"
      ]
     },
     "execution_count": 79,
     "metadata": {},
     "output_type": "execute_result"
    }
   ],
   "source": [
    "narray[5][5]"
   ]
  },
  {
   "cell_type": "code",
   "execution_count": 85,
   "id": "36e29eff",
   "metadata": {},
   "outputs": [
    {
     "data": {
      "text/plain": [
       "array([55, 46, 68, 45, 65, 89, 93, 37, 96, 24])"
      ]
     },
     "execution_count": 85,
     "metadata": {},
     "output_type": "execute_result"
    }
   ],
   "source": [
    "nlst=np.random.randint(0,100,10)\n",
    "nlst"
   ]
  },
  {
   "cell_type": "code",
   "execution_count": 86,
   "id": "d25403a1",
   "metadata": {},
   "outputs": [
    {
     "data": {
      "text/plain": [
       "96"
      ]
     },
     "execution_count": 86,
     "metadata": {},
     "output_type": "execute_result"
    }
   ],
   "source": [
    "nlst.max()"
   ]
  },
  {
   "cell_type": "code",
   "execution_count": 87,
   "id": "4c4cb69f",
   "metadata": {},
   "outputs": [
    {
     "data": {
      "text/plain": [
       "24"
      ]
     },
     "execution_count": 87,
     "metadata": {},
     "output_type": "execute_result"
    }
   ],
   "source": [
    "nlst.min()"
   ]
  },
  {
   "cell_type": "code",
   "execution_count": 88,
   "id": "f42234f9",
   "metadata": {},
   "outputs": [
    {
     "data": {
      "text/plain": [
       "8"
      ]
     },
     "execution_count": 88,
     "metadata": {},
     "output_type": "execute_result"
    }
   ],
   "source": [
    "nlst.argmax()"
   ]
  },
  {
   "cell_type": "code",
   "execution_count": 84,
   "id": "59ab92e0",
   "metadata": {},
   "outputs": [
    {
     "data": {
      "text/plain": [
       "8"
      ]
     },
     "execution_count": 84,
     "metadata": {},
     "output_type": "execute_result"
    }
   ],
   "source": [
    "nlst.argmin()"
   ]
  },
  {
   "cell_type": "code",
   "execution_count": 89,
   "id": "6e5f149b",
   "metadata": {},
   "outputs": [
    {
     "name": "stdout",
     "output_type": "stream",
     "text": [
      "[0. 0. 0. 0. 0.]\n",
      "float64\n",
      "[0 0 0 0 0]\n"
     ]
    }
   ],
   "source": [
    "arr=np.zeros(5)\n",
    "print(arr)\n",
    "print(arr.dtype)\n",
    "print(arr.astype(int))"
   ]
  },
  {
   "cell_type": "code",
   "execution_count": 90,
   "id": "4e8ffb5f",
   "metadata": {},
   "outputs": [
    {
     "name": "stdout",
     "output_type": "stream",
     "text": [
      "[[ 0  1  2  3  4  5  6  7  8  9]\n",
      " [10 11 12 13 14 15 16 17 18 19]\n",
      " [20 21 22 23 24 25 26 27 28 29]\n",
      " [30 31 32 33 34 35 36 37 38 39]\n",
      " [40 41 42 43 44 45 46 47 48 49]\n",
      " [50 51 52 53 54 55 56 57 58 59]\n",
      " [60 61 62 63 64 65 66 67 68 69]\n",
      " [70 71 72 73 74 75 76 77 78 79]\n",
      " [80 81 82 83 84 85 86 87 88 89]\n",
      " [90 91 92 93 94 95 96 97 98 99]]\n"
     ]
    }
   ],
   "source": [
    "import numpy as np\n",
    "narr_2d=np.arange(0,100).reshape(10,10)\n",
    "print(narr_2d)"
   ]
  },
  {
   "cell_type": "code",
   "execution_count": 91,
   "id": "ce2fd151",
   "metadata": {},
   "outputs": [
    {
     "data": {
      "text/plain": [
       "array([[ 1,  2,  3,  4,  5,  6,  7,  8,  9],\n",
       "       [11, 12, 13, 14, 15, 16, 17, 18, 19]])"
      ]
     },
     "execution_count": 91,
     "metadata": {},
     "output_type": "execute_result"
    }
   ],
   "source": [
    "narr_2d[:2,1:]"
   ]
  },
  {
   "cell_type": "code",
   "execution_count": 92,
   "id": "d462f210",
   "metadata": {},
   "outputs": [
    {
     "name": "stdout",
     "output_type": "stream",
     "text": [
      "[25 21 94 94 69 34 58 81 78 63]\n"
     ]
    }
   ],
   "source": [
    "narr=np.random.randint(1,100,10)\n",
    "print(narr)"
   ]
  },
  {
   "cell_type": "code",
   "execution_count": 93,
   "id": "702b88c8",
   "metadata": {},
   "outputs": [
    {
     "data": {
      "text/plain": [
       "array([False, False,  True,  True,  True, False,  True,  True,  True,\n",
       "        True])"
      ]
     },
     "execution_count": 93,
     "metadata": {},
     "output_type": "execute_result"
    }
   ],
   "source": [
    "narr > 50"
   ]
  },
  {
   "cell_type": "code",
   "execution_count": 94,
   "id": "303ccf0c",
   "metadata": {},
   "outputs": [
    {
     "data": {
      "text/plain": [
       "array([94, 94, 69, 58, 81, 78, 63])"
      ]
     },
     "execution_count": 94,
     "metadata": {},
     "output_type": "execute_result"
    }
   ],
   "source": [
    "narr[narr>50]"
   ]
  },
  {
   "cell_type": "code",
   "execution_count": 95,
   "id": "bc2e9d06",
   "metadata": {},
   "outputs": [
    {
     "data": {
      "text/plain": [
       "array([25, 21, 34])"
      ]
     },
     "execution_count": 95,
     "metadata": {},
     "output_type": "execute_result"
    }
   ],
   "source": [
    "narr[narr<50]"
   ]
  },
  {
   "cell_type": "code",
   "execution_count": 97,
   "id": "1ea4dfb5",
   "metadata": {},
   "outputs": [
    {
     "data": {
      "text/plain": [
       "array([25])"
      ]
     },
     "execution_count": 97,
     "metadata": {},
     "output_type": "execute_result"
    }
   ],
   "source": [
    "narr[narr == 25]"
   ]
  },
  {
   "cell_type": "code",
   "execution_count": 98,
   "id": "3600b49f",
   "metadata": {},
   "outputs": [
    {
     "name": "stdout",
     "output_type": "stream",
     "text": [
      "[94 94 69 58 81 78 63]\n",
      "[25 21 34]\n",
      "[94 94 69 58 81 78 63]\n",
      "[25 21 34]\n",
      "[25 21 94 94 69 34 58 81 78 63]\n",
      "[]\n"
     ]
    }
   ],
   "source": [
    "print(narr[narr > 50])\n",
    "print(narr[narr < 50])\n",
    "print(narr[narr >= 50])\n",
    "print(narr[narr <= 50])\n",
    "print(narr[narr != 50])\n",
    "print(narr[narr == 50])"
   ]
  },
  {
   "cell_type": "code",
   "execution_count": 99,
   "id": "ab7609fd",
   "metadata": {},
   "outputs": [
    {
     "name": "stdout",
     "output_type": "stream",
     "text": [
      "[0 1 2 3 4 5 6 7 8 9]\n",
      "[ 0  2  4  6  8 10 12 14 16 18]\n",
      "[0 0 0 0 0 0 0 0 0 0]\n",
      "[ 0  1  4  9 16 25 36 49 64 81]\n"
     ]
    }
   ],
   "source": [
    "narr=np.arange(0,10)\n",
    "print(narr)\n",
    "print(narr + narr)\n",
    "print(narr - narr)\n",
    "print(narr * narr)"
   ]
  },
  {
   "cell_type": "code",
   "execution_count": 100,
   "id": "4679787b",
   "metadata": {},
   "outputs": [
    {
     "name": "stdout",
     "output_type": "stream",
     "text": [
      "[0 1 2 3 4 5 6 7 8 9]\n",
      "[nan  1.  1.  1.  1.  1.  1.  1.  1.  1.]\n"
     ]
    },
    {
     "name": "stderr",
     "output_type": "stream",
     "text": [
      "C:\\Users\\aniru\\AppData\\Local\\Temp\\ipykernel_12652\\3883695119.py:3: RuntimeWarning: invalid value encountered in true_divide\n",
      "  print(narr/narr)\n"
     ]
    }
   ],
   "source": [
    "narr=np.arange(0,10)\n",
    "print(narr)\n",
    "print(narr/narr)\n",
    "#Runtiime Warning:Invalid value encountered in true_divide\n",
    "#narr is containing 0 element\n",
    "#So,  there is a possibility of 0/0 division which is invalid"
   ]
  },
  {
   "cell_type": "code",
   "execution_count": 101,
   "id": "6733091a",
   "metadata": {},
   "outputs": [
    {
     "name": "stdout",
     "output_type": "stream",
     "text": [
      "[0 1 2 3 4 5 6 7 8 9]\n",
      "[        1         1         4        27       256      3125     46656\n",
      "    823543  16777216 387420489]\n"
     ]
    }
   ],
   "source": [
    "narr=np.arange(0,10)\n",
    "print(narr)\n",
    "print(narr**narr)"
   ]
  },
  {
   "cell_type": "code",
   "execution_count": 102,
   "id": "f8896d63",
   "metadata": {},
   "outputs": [
    {
     "name": "stdout",
     "output_type": "stream",
     "text": [
      "[0 1 2 3 4 5 6 7 8 9]\n",
      "[0 1 1 1 1 1 1 1 1 1]\n"
     ]
    },
    {
     "name": "stderr",
     "output_type": "stream",
     "text": [
      "C:\\Users\\aniru\\AppData\\Local\\Temp\\ipykernel_12652\\4034407483.py:3: RuntimeWarning: divide by zero encountered in floor_divide\n",
      "  print(narr//narr)\n"
     ]
    }
   ],
   "source": [
    "narr=np.arange(0,10)\n",
    "print(narr)\n",
    "print(narr//narr)\n",
    "#Runtime warning: divide by zero encountered in floor_divide"
   ]
  },
  {
   "cell_type": "code",
   "execution_count": 103,
   "id": "03818a21",
   "metadata": {},
   "outputs": [
    {
     "name": "stdout",
     "output_type": "stream",
     "text": [
      "[0 1 2 3 4 5 6 7 8 9]\n",
      "[0 0 0 0 0 0 0 0 0 0]\n"
     ]
    },
    {
     "name": "stderr",
     "output_type": "stream",
     "text": [
      "C:\\Users\\aniru\\AppData\\Local\\Temp\\ipykernel_12652\\2937201104.py:3: RuntimeWarning: divide by zero encountered in remainder\n",
      "  print(narr%narr)\n"
     ]
    }
   ],
   "source": [
    "narr=np.arange(0,10)\n",
    "print(narr)\n",
    "print(narr%narr)"
   ]
  },
  {
   "cell_type": "code",
   "execution_count": 104,
   "id": "8795dbdc",
   "metadata": {},
   "outputs": [
    {
     "data": {
      "text/plain": [
       "1"
      ]
     },
     "execution_count": 104,
     "metadata": {},
     "output_type": "execute_result"
    }
   ],
   "source": [
    "0**0 #python behaviour"
   ]
  },
  {
   "cell_type": "code",
   "execution_count": 105,
   "id": "34761335",
   "metadata": {},
   "outputs": [
    {
     "data": {
      "text/plain": [
       "-1"
      ]
     },
     "execution_count": 105,
     "metadata": {},
     "output_type": "execute_result"
    }
   ],
   "source": [
    "-1**0 #python behaviour"
   ]
  },
  {
   "cell_type": "code",
   "execution_count": 107,
   "id": "e85039e8",
   "metadata": {},
   "outputs": [
    {
     "name": "stdout",
     "output_type": "stream",
     "text": [
      "[0 1 2 3 4 5 6 7 8 9]\n",
      "[ 0  2  4  6  8 10 12 14 16 18]\n",
      "[0 0 0 0 0 0 0 0 0 0]\n",
      "[ 0  1  4  9 16 25 36 49 64 81]\n",
      "[nan  1.  1.  1.  1.  1.  1.  1.  1.  1.]\n",
      "[0 1 1 1 1 1 1 1 1 1]\n",
      "[0 0 0 0 0 0 0 0 0 0]\n",
      "[        1         1         4        27       256      3125     46656\n",
      "    823543  16777216 387420489]\n"
     ]
    },
    {
     "name": "stderr",
     "output_type": "stream",
     "text": [
      "C:\\Users\\aniru\\AppData\\Local\\Temp\\ipykernel_12652\\3041054937.py:6: RuntimeWarning: invalid value encountered in true_divide\n",
      "  print(narr / narr)\n",
      "C:\\Users\\aniru\\AppData\\Local\\Temp\\ipykernel_12652\\3041054937.py:7: RuntimeWarning: divide by zero encountered in floor_divide\n",
      "  print(narr // narr)\n",
      "C:\\Users\\aniru\\AppData\\Local\\Temp\\ipykernel_12652\\3041054937.py:8: RuntimeWarning: divide by zero encountered in remainder\n",
      "  print(narr % narr)\n"
     ]
    }
   ],
   "source": [
    "narr=np.arange(0,10)\n",
    "print(narr)\n",
    "print(narr + narr)\n",
    "print(narr - narr)\n",
    "print(narr * narr)\n",
    "print(narr / narr)\n",
    "print(narr // narr)\n",
    "print(narr % narr)\n",
    "print(narr ** narr)\n"
   ]
  },
  {
   "cell_type": "code",
   "execution_count": 108,
   "id": "2d0a88cb",
   "metadata": {},
   "outputs": [
    {
     "name": "stdout",
     "output_type": "stream",
     "text": [
      "[0 1 2 3 4 5 6 7 8 9]\n",
      "[0.         1.         1.41421356 1.73205081 2.         2.23606798\n",
      " 2.44948974 2.64575131 2.82842712 3.        ]\n"
     ]
    }
   ],
   "source": [
    "narr=np.arange(0,10)\n",
    "print(narr)\n",
    "print(np.sqrt(narr))"
   ]
  },
  {
   "cell_type": "code",
   "execution_count": 111,
   "id": "a8074593",
   "metadata": {},
   "outputs": [
    {
     "name": "stdout",
     "output_type": "stream",
     "text": [
      "[0 1 2 3 4 5 6 7 8 9]\n",
      "[ 0.          0.84147098  0.90929743  0.14112001 -0.7568025  -0.95892427\n",
      " -0.2794155   0.6569866   0.98935825  0.41211849]\n",
      "[ 1.          0.54030231 -0.41614684 -0.9899925  -0.65364362  0.28366219\n",
      "  0.96017029  0.75390225 -0.14550003 -0.91113026]\n",
      "[ 0.          1.55740772 -2.18503986 -0.14254654  1.15782128 -3.38051501\n",
      " -0.29100619  0.87144798 -6.79971146 -0.45231566]\n"
     ]
    }
   ],
   "source": [
    "narr=np.arange(0,10)\n",
    "print(narr)\n",
    "print(np.sin(narr))\n",
    "print(np.cos(narr))\n",
    "print(np.tan(narr))\n",
    "# print(np.cot(narr)) Attribute error: module 'numpy' has no attribute 'cot'\n",
    "# print(np.sec(narr)) Attribute error: module 'numpy' has no attribute 'sec' \n",
    "# print(np.cosec(narr)) Attribute error: module 'numpy' has no attribute 'cosec'"
   ]
  },
  {
   "cell_type": "code",
   "execution_count": 112,
   "id": "89256923",
   "metadata": {},
   "outputs": [
    {
     "name": "stderr",
     "output_type": "stream",
     "text": [
      "C:\\Users\\aniru\\AppData\\Local\\Temp\\ipykernel_12652\\1074611657.py:1: RuntimeWarning: divide by zero encountered in true_divide\n",
      "  1/np.sin(narr)\n"
     ]
    },
    {
     "data": {
      "text/plain": [
       "array([        inf,  1.18839511,  1.09975017,  7.0861674 , -1.32134871,\n",
       "       -1.04283521, -3.57889955,  1.52210106,  1.01075622,  2.42648664])"
      ]
     },
     "execution_count": 112,
     "metadata": {},
     "output_type": "execute_result"
    }
   ],
   "source": [
    "1/np.sin(narr)"
   ]
  },
  {
   "cell_type": "code",
   "execution_count": 113,
   "id": "34999c9e",
   "metadata": {},
   "outputs": [
    {
     "name": "stdout",
     "output_type": "stream",
     "text": [
      "[0 1 2 3 4 5 6 7 8 9]\n",
      "[      -inf 0.         0.69314718 1.09861229 1.38629436 1.60943791\n",
      " 1.79175947 1.94591015 2.07944154 2.19722458]\n"
     ]
    },
    {
     "name": "stderr",
     "output_type": "stream",
     "text": [
      "C:\\Users\\aniru\\AppData\\Local\\Temp\\ipykernel_12652\\3579376171.py:3: RuntimeWarning: divide by zero encountered in log\n",
      "  print(np.log(narr))\n"
     ]
    }
   ],
   "source": [
    "narr=np.arange(0,10)\n",
    "print(narr)\n",
    "print(np.log(narr))"
   ]
  },
  {
   "cell_type": "code",
   "execution_count": 114,
   "id": "7396e045",
   "metadata": {},
   "outputs": [
    {
     "name": "stdout",
     "output_type": "stream",
     "text": [
      "[12  5 69 30 26 98 14 29 96 46]\n",
      "[2.48490665 1.60943791 4.2341065  3.40119738 3.25809654 4.58496748\n",
      " 2.63905733 3.36729583 4.56434819 3.8286414 ]\n"
     ]
    }
   ],
   "source": [
    "narr=np.random.randint(1,100,10)\n",
    "print(narr)\n",
    "print(np.log(narr))"
   ]
  },
  {
   "cell_type": "code",
   "execution_count": 115,
   "id": "0b31b517",
   "metadata": {},
   "outputs": [
    {
     "name": "stdout",
     "output_type": "stream",
     "text": [
      "0.0\n"
     ]
    }
   ],
   "source": [
    "a=5/5.5\n",
    "b=5*5.5\n",
    "print(a//b) #tricky question"
   ]
  },
  {
   "cell_type": "code",
   "execution_count": null,
   "id": "48d92a60",
   "metadata": {},
   "outputs": [],
   "source": []
  }
 ],
 "metadata": {
  "kernelspec": {
   "display_name": "Python 3 (ipykernel)",
   "language": "python",
   "name": "python3"
  },
  "language_info": {
   "codemirror_mode": {
    "name": "ipython",
    "version": 3
   },
   "file_extension": ".py",
   "mimetype": "text/x-python",
   "name": "python",
   "nbconvert_exporter": "python",
   "pygments_lexer": "ipython3",
   "version": "3.9.12"
  }
 },
 "nbformat": 4,
 "nbformat_minor": 5
}
